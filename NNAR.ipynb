{
 "cells": [
  {
   "cell_type": "code",
   "execution_count": 230,
   "id": "11d18700",
   "metadata": {},
   "outputs": [],
   "source": [
    "import pandas  as pd\n",
    "import numpy   as np\n",
    "import math\n",
    "from   keras.models import Sequential\n",
    "from   keras.layers import Dense \n",
    "import tensorflow as tf\n",
    "from tensorflow import keras\n",
    "import matplotlib.pyplot as plt\n",
    "import seaborn as sns\n",
    "from sklearn.model_selection import train_test_split\n",
    "from sklearn.preprocessing import MinMaxScaler\n",
    "from sklearn.metrics import r2_score, mean_squared_error, mean_absolute_error\n",
    "\n"
   ]
  },
  {
   "cell_type": "code",
   "execution_count": 231,
   "id": "aeae3b5e",
   "metadata": {},
   "outputs": [],
   "source": [
    "df = pd.read_csv(\"VCB.csv\")"
   ]
  },
  {
   "cell_type": "code",
   "execution_count": 232,
   "id": "05d1afb6",
   "metadata": {},
   "outputs": [
    {
     "name": "stdout",
     "output_type": "stream",
     "text": [
      "<class 'pandas.core.frame.DataFrame'>\n",
      "RangeIndex: 1374 entries, 0 to 1373\n",
      "Data columns (total 7 columns):\n",
      " #   Column    Non-Null Count  Dtype \n",
      "---  ------    --------------  ----- \n",
      " 0   Date      1374 non-null   object\n",
      " 1   Close     1374 non-null   int64 \n",
      " 2   Open      1374 non-null   int64 \n",
      " 3   High      1374 non-null   int64 \n",
      " 4   Low       1374 non-null   int64 \n",
      " 5   Vol.      1374 non-null   object\n",
      " 6   Change %  1374 non-null   object\n",
      "dtypes: int64(4), object(3)\n",
      "memory usage: 75.3+ KB\n"
     ]
    }
   ],
   "source": [
    "df.info()"
   ]
  },
  {
   "cell_type": "code",
   "execution_count": 233,
   "id": "42e969d1",
   "metadata": {},
   "outputs": [
    {
     "data": {
      "text/html": [
       "<div>\n",
       "<style scoped>\n",
       "    .dataframe tbody tr th:only-of-type {\n",
       "        vertical-align: middle;\n",
       "    }\n",
       "\n",
       "    .dataframe tbody tr th {\n",
       "        vertical-align: top;\n",
       "    }\n",
       "\n",
       "    .dataframe thead th {\n",
       "        text-align: right;\n",
       "    }\n",
       "</style>\n",
       "<table border=\"1\" class=\"dataframe\">\n",
       "  <thead>\n",
       "    <tr style=\"text-align: right;\">\n",
       "      <th></th>\n",
       "      <th>Close</th>\n",
       "      <th>Open</th>\n",
       "      <th>High</th>\n",
       "      <th>Low</th>\n",
       "    </tr>\n",
       "  </thead>\n",
       "  <tbody>\n",
       "    <tr>\n",
       "      <th>count</th>\n",
       "      <td>1374.000000</td>\n",
       "      <td>1374.000000</td>\n",
       "      <td>1374.000000</td>\n",
       "      <td>1374.000000</td>\n",
       "    </tr>\n",
       "    <tr>\n",
       "      <th>mean</th>\n",
       "      <td>66131.355895</td>\n",
       "      <td>66076.817322</td>\n",
       "      <td>66911.454876</td>\n",
       "      <td>65262.825328</td>\n",
       "    </tr>\n",
       "    <tr>\n",
       "      <th>std</th>\n",
       "      <td>15294.539296</td>\n",
       "      <td>15301.598532</td>\n",
       "      <td>15435.499982</td>\n",
       "      <td>15120.524067</td>\n",
       "    </tr>\n",
       "    <tr>\n",
       "      <th>min</th>\n",
       "      <td>33360.000000</td>\n",
       "      <td>33360.000000</td>\n",
       "      <td>34194.000000</td>\n",
       "      <td>31540.000000</td>\n",
       "    </tr>\n",
       "    <tr>\n",
       "      <th>25%</th>\n",
       "      <td>51989.000000</td>\n",
       "      <td>51912.000000</td>\n",
       "      <td>52545.250000</td>\n",
       "      <td>51340.250000</td>\n",
       "    </tr>\n",
       "    <tr>\n",
       "      <th>50%</th>\n",
       "      <td>67639.000000</td>\n",
       "      <td>67578.000000</td>\n",
       "      <td>68038.000000</td>\n",
       "      <td>66810.000000</td>\n",
       "    </tr>\n",
       "    <tr>\n",
       "      <th>75%</th>\n",
       "      <td>77342.000000</td>\n",
       "      <td>77264.000000</td>\n",
       "      <td>78500.000000</td>\n",
       "      <td>76335.000000</td>\n",
       "    </tr>\n",
       "    <tr>\n",
       "      <th>max</th>\n",
       "      <td>99000.000000</td>\n",
       "      <td>99000.000000</td>\n",
       "      <td>99000.000000</td>\n",
       "      <td>97000.000000</td>\n",
       "    </tr>\n",
       "  </tbody>\n",
       "</table>\n",
       "</div>"
      ],
      "text/plain": [
       "              Close          Open          High           Low\n",
       "count   1374.000000   1374.000000   1374.000000   1374.000000\n",
       "mean   66131.355895  66076.817322  66911.454876  65262.825328\n",
       "std    15294.539296  15301.598532  15435.499982  15120.524067\n",
       "min    33360.000000  33360.000000  34194.000000  31540.000000\n",
       "25%    51989.000000  51912.000000  52545.250000  51340.250000\n",
       "50%    67639.000000  67578.000000  68038.000000  66810.000000\n",
       "75%    77342.000000  77264.000000  78500.000000  76335.000000\n",
       "max    99000.000000  99000.000000  99000.000000  97000.000000"
      ]
     },
     "execution_count": 233,
     "metadata": {},
     "output_type": "execute_result"
    }
   ],
   "source": [
    "df.describe()"
   ]
  },
  {
   "cell_type": "code",
   "execution_count": 234,
   "id": "57446fad",
   "metadata": {},
   "outputs": [],
   "source": [
    "#gắng index với giá Close\n",
    "df1=df.reset_index()['Close']"
   ]
  },
  {
   "cell_type": "code",
   "execution_count": 235,
   "id": "d0747938",
   "metadata": {},
   "outputs": [
    {
     "data": {
      "text/plain": [
       "0       36620\n",
       "1       37454\n",
       "2       36468\n",
       "3       36392\n",
       "4       36089\n",
       "        ...  \n",
       "1369    93900\n",
       "1370    94900\n",
       "1371    98000\n",
       "1372    99000\n",
       "1373    97000\n",
       "Name: Close, Length: 1374, dtype: int64"
      ]
     },
     "execution_count": 235,
     "metadata": {},
     "output_type": "execute_result"
    }
   ],
   "source": [
    "df1"
   ]
  },
  {
   "cell_type": "code",
   "execution_count": 236,
   "id": "8650a68b",
   "metadata": {},
   "outputs": [],
   "source": [
    "# 3. Scaler data\n",
    "scaler=MinMaxScaler(feature_range=(0,1))\n",
    "df1=scaler.fit_transform(np.array(df1).reshape(-1,1))"
   ]
  },
  {
   "cell_type": "code",
   "execution_count": 237,
   "id": "5ae0aa26",
   "metadata": {},
   "outputs": [],
   "source": [
    "# 4. Chia train test\n",
    "train_size = int(0.7 * len(df1))\n",
    "test_size = int(0.2 * len(df1))\n",
    "val_size = len(df1) - train_size - test_size\n",
    "\n",
    "train_data = df1[:train_size]\n",
    "test_data = df1[train_size:train_size+test_size]\n",
    "val_data = df1[train_size+test_size:]"
   ]
  },
  {
   "cell_type": "code",
   "execution_count": 238,
   "id": "1ca542bb",
   "metadata": {},
   "outputs": [],
   "source": [
    "# 5. Hàm Create Dataset\n",
    "import numpy\n",
    "# convert an array of values into a dataset matrix\n",
    "def create_dataset(dataset, time_step=1):\n",
    "\tdataX, dataY = [], []\n",
    "\tfor i in range(len(dataset)-time_step-1):\n",
    "\t\ta = dataset[i:(i+time_step), 0]   ###i=0, X=0,1,2,3-----99   Y=100 \n",
    "\t\tdataX.append(a)\n",
    "\t\tdataY.append(dataset[i + time_step, 0])\n",
    "\treturn numpy.array(dataX), numpy.array(dataY)"
   ]
  },
  {
   "cell_type": "code",
   "execution_count": 239,
   "id": "d7c2585f",
   "metadata": {},
   "outputs": [],
   "source": [
    "#6. Reshape into X=t,t+1,t+2..t+99 and Y=t+100\n",
    "\n",
    "time_step = 100\n",
    "X_train, y_train = create_dataset(train_data, time_step)\n",
    "X_val, yval = create_dataset(val_data, time_step)\n",
    "X_test, ytest = create_dataset(test_data, time_step)"
   ]
  },
  {
   "cell_type": "code",
   "execution_count": 240,
   "id": "b7dd6285",
   "metadata": {},
   "outputs": [],
   "source": [
    "# 7. Reshape input to be [samples, time steps, features] which is required for LSTM\n",
    "X_train =X_train.reshape(X_train.shape[0],X_train.shape[1] , 1)\n",
    "X_test = X_test.reshape(X_test.shape[0],X_test.shape[1] , 1)\n",
    "X_val = X_val.reshape(X_val.shape[0],X_val.shape[1] , 1)"
   ]
  },
  {
   "cell_type": "code",
   "execution_count": 241,
   "id": "01798834",
   "metadata": {},
   "outputs": [],
   "source": [
    "\n",
    "model = tf.keras.models.Sequential()\n",
    "model.add(tf.keras.layers.Conv1D(32, kernel_size=3, activation='relu', input_shape=(time_step, 1)))\n",
    "model.add(tf.keras.layers.Flatten())\n",
    "model.add(tf.keras.layers.Dense(1))"
   ]
  },
  {
   "cell_type": "code",
   "execution_count": 242,
   "id": "70323ad5",
   "metadata": {},
   "outputs": [],
   "source": [
    "model.compile(loss='mean_squared_error', optimizer='sgd')\n",
    "\n"
   ]
  },
  {
   "cell_type": "code",
   "execution_count": 243,
   "id": "5b365ba3",
   "metadata": {},
   "outputs": [
    {
     "name": "stdout",
     "output_type": "stream",
     "text": [
      "Epoch 1/100\n",
      "14/14 [==============================] - 1s 28ms/step - loss: 0.0455 - val_loss: 0.0039\n",
      "Epoch 2/100\n",
      "14/14 [==============================] - 0s 5ms/step - loss: 0.0053 - val_loss: 0.0044\n",
      "Epoch 3/100\n",
      "14/14 [==============================] - 0s 9ms/step - loss: 0.0051 - val_loss: 0.0040\n",
      "Epoch 4/100\n",
      "14/14 [==============================] - 0s 9ms/step - loss: 0.0049 - val_loss: 0.0042\n",
      "Epoch 5/100\n",
      "14/14 [==============================] - 0s 8ms/step - loss: 0.0047 - val_loss: 0.0043\n",
      "Epoch 6/100\n",
      "14/14 [==============================] - 0s 7ms/step - loss: 0.0045 - val_loss: 0.0047\n",
      "Epoch 7/100\n",
      "14/14 [==============================] - 0s 7ms/step - loss: 0.0044 - val_loss: 0.0043\n",
      "Epoch 8/100\n",
      "14/14 [==============================] - 0s 7ms/step - loss: 0.0043 - val_loss: 0.0042\n",
      "Epoch 9/100\n",
      "14/14 [==============================] - 0s 5ms/step - loss: 0.0041 - val_loss: 0.0053\n",
      "Epoch 10/100\n",
      "14/14 [==============================] - 0s 5ms/step - loss: 0.0041 - val_loss: 0.0045\n",
      "Epoch 11/100\n",
      "14/14 [==============================] - 0s 8ms/step - loss: 0.0040 - val_loss: 0.0040\n",
      "Epoch 12/100\n",
      "14/14 [==============================] - 0s 6ms/step - loss: 0.0039 - val_loss: 0.0043\n",
      "Epoch 13/100\n",
      "14/14 [==============================] - 0s 7ms/step - loss: 0.0038 - val_loss: 0.0050\n",
      "Epoch 14/100\n",
      "14/14 [==============================] - 0s 5ms/step - loss: 0.0037 - val_loss: 0.0051\n",
      "Epoch 15/100\n",
      "14/14 [==============================] - 0s 5ms/step - loss: 0.0036 - val_loss: 0.0047\n",
      "Epoch 16/100\n",
      "14/14 [==============================] - 0s 7ms/step - loss: 0.0036 - val_loss: 0.0049\n",
      "Epoch 17/100\n",
      "14/14 [==============================] - 0s 9ms/step - loss: 0.0035 - val_loss: 0.0046\n",
      "Epoch 18/100\n",
      "14/14 [==============================] - 0s 7ms/step - loss: 0.0034 - val_loss: 0.0044\n",
      "Epoch 19/100\n",
      "14/14 [==============================] - 0s 7ms/step - loss: 0.0034 - val_loss: 0.0043\n",
      "Epoch 20/100\n",
      "14/14 [==============================] - 0s 6ms/step - loss: 0.0033 - val_loss: 0.0048\n",
      "Epoch 21/100\n",
      "14/14 [==============================] - 0s 7ms/step - loss: 0.0033 - val_loss: 0.0053\n",
      "Epoch 22/100\n",
      "14/14 [==============================] - 0s 8ms/step - loss: 0.0032 - val_loss: 0.0044\n",
      "Epoch 23/100\n",
      "14/14 [==============================] - 0s 7ms/step - loss: 0.0032 - val_loss: 0.0048\n",
      "Epoch 24/100\n",
      "14/14 [==============================] - 0s 6ms/step - loss: 0.0031 - val_loss: 0.0039\n",
      "Epoch 25/100\n",
      "14/14 [==============================] - 0s 6ms/step - loss: 0.0031 - val_loss: 0.0038\n",
      "Epoch 26/100\n",
      "14/14 [==============================] - 0s 7ms/step - loss: 0.0030 - val_loss: 0.0039\n",
      "Epoch 27/100\n",
      "14/14 [==============================] - 0s 6ms/step - loss: 0.0030 - val_loss: 0.0036\n",
      "Epoch 28/100\n",
      "14/14 [==============================] - 0s 5ms/step - loss: 0.0030 - val_loss: 0.0048\n",
      "Epoch 29/100\n",
      "14/14 [==============================] - 0s 5ms/step - loss: 0.0029 - val_loss: 0.0044\n",
      "Epoch 30/100\n",
      "14/14 [==============================] - 0s 6ms/step - loss: 0.0029 - val_loss: 0.0049\n",
      "Epoch 31/100\n",
      "14/14 [==============================] - 0s 7ms/step - loss: 0.0029 - val_loss: 0.0041\n",
      "Epoch 32/100\n",
      "14/14 [==============================] - 0s 6ms/step - loss: 0.0028 - val_loss: 0.0041\n",
      "Epoch 33/100\n",
      "14/14 [==============================] - 0s 5ms/step - loss: 0.0028 - val_loss: 0.0035\n",
      "Epoch 34/100\n",
      "14/14 [==============================] - 0s 5ms/step - loss: 0.0028 - val_loss: 0.0045\n",
      "Epoch 35/100\n",
      "14/14 [==============================] - 0s 5ms/step - loss: 0.0027 - val_loss: 0.0036\n",
      "Epoch 36/100\n",
      "14/14 [==============================] - 0s 6ms/step - loss: 0.0027 - val_loss: 0.0036\n",
      "Epoch 37/100\n",
      "14/14 [==============================] - 0s 7ms/step - loss: 0.0027 - val_loss: 0.0034\n",
      "Epoch 38/100\n",
      "14/14 [==============================] - 0s 5ms/step - loss: 0.0026 - val_loss: 0.0042\n",
      "Epoch 39/100\n",
      "14/14 [==============================] - 0s 5ms/step - loss: 0.0026 - val_loss: 0.0038\n",
      "Epoch 40/100\n",
      "14/14 [==============================] - 0s 5ms/step - loss: 0.0026 - val_loss: 0.0044\n",
      "Epoch 41/100\n",
      "14/14 [==============================] - 0s 6ms/step - loss: 0.0025 - val_loss: 0.0035\n",
      "Epoch 42/100\n",
      "14/14 [==============================] - 0s 7ms/step - loss: 0.0025 - val_loss: 0.0035\n",
      "Epoch 43/100\n",
      "14/14 [==============================] - 0s 5ms/step - loss: 0.0025 - val_loss: 0.0037\n",
      "Epoch 44/100\n",
      "14/14 [==============================] - 0s 4ms/step - loss: 0.0025 - val_loss: 0.0038\n",
      "Epoch 45/100\n",
      "14/14 [==============================] - 0s 7ms/step - loss: 0.0025 - val_loss: 0.0038\n",
      "Epoch 46/100\n",
      "14/14 [==============================] - 0s 7ms/step - loss: 0.0024 - val_loss: 0.0038\n",
      "Epoch 47/100\n",
      "14/14 [==============================] - 0s 6ms/step - loss: 0.0024 - val_loss: 0.0038\n",
      "Epoch 48/100\n",
      "14/14 [==============================] - 0s 6ms/step - loss: 0.0024 - val_loss: 0.0036\n",
      "Epoch 49/100\n",
      "14/14 [==============================] - 0s 6ms/step - loss: 0.0024 - val_loss: 0.0034\n",
      "Epoch 50/100\n",
      "14/14 [==============================] - 0s 6ms/step - loss: 0.0023 - val_loss: 0.0039\n",
      "Epoch 51/100\n",
      "14/14 [==============================] - 0s 7ms/step - loss: 0.0023 - val_loss: 0.0035\n",
      "Epoch 52/100\n",
      "14/14 [==============================] - 0s 6ms/step - loss: 0.0023 - val_loss: 0.0035\n",
      "Epoch 53/100\n",
      "14/14 [==============================] - 0s 6ms/step - loss: 0.0023 - val_loss: 0.0032\n",
      "Epoch 54/100\n",
      "14/14 [==============================] - 0s 6ms/step - loss: 0.0023 - val_loss: 0.0035\n",
      "Epoch 55/100\n",
      "14/14 [==============================] - 0s 6ms/step - loss: 0.0023 - val_loss: 0.0034\n",
      "Epoch 56/100\n",
      "14/14 [==============================] - 0s 5ms/step - loss: 0.0022 - val_loss: 0.0032\n",
      "Epoch 57/100\n",
      "14/14 [==============================] - 0s 6ms/step - loss: 0.0022 - val_loss: 0.0033\n",
      "Epoch 58/100\n",
      "14/14 [==============================] - 0s 5ms/step - loss: 0.0022 - val_loss: 0.0032\n",
      "Epoch 59/100\n",
      "14/14 [==============================] - 0s 4ms/step - loss: 0.0022 - val_loss: 0.0037\n",
      "Epoch 60/100\n",
      "14/14 [==============================] - 0s 5ms/step - loss: 0.0022 - val_loss: 0.0034\n",
      "Epoch 61/100\n",
      "14/14 [==============================] - 0s 5ms/step - loss: 0.0022 - val_loss: 0.0033\n",
      "Epoch 62/100\n",
      "14/14 [==============================] - 0s 7ms/step - loss: 0.0021 - val_loss: 0.0033\n",
      "Epoch 63/100\n",
      "14/14 [==============================] - 0s 6ms/step - loss: 0.0021 - val_loss: 0.0033\n",
      "Epoch 64/100\n",
      "14/14 [==============================] - 0s 6ms/step - loss: 0.0021 - val_loss: 0.0038\n",
      "Epoch 65/100\n",
      "14/14 [==============================] - 0s 5ms/step - loss: 0.0021 - val_loss: 0.0033\n",
      "Epoch 66/100\n",
      "14/14 [==============================] - 0s 8ms/step - loss: 0.0021 - val_loss: 0.0033\n",
      "Epoch 67/100\n",
      "14/14 [==============================] - 0s 6ms/step - loss: 0.0021 - val_loss: 0.0031\n",
      "Epoch 68/100\n",
      "14/14 [==============================] - 0s 4ms/step - loss: 0.0021 - val_loss: 0.0032\n",
      "Epoch 69/100\n",
      "14/14 [==============================] - 0s 6ms/step - loss: 0.0020 - val_loss: 0.0036\n",
      "Epoch 70/100\n",
      "14/14 [==============================] - 0s 6ms/step - loss: 0.0020 - val_loss: 0.0035\n",
      "Epoch 71/100\n",
      "14/14 [==============================] - 0s 5ms/step - loss: 0.0020 - val_loss: 0.0031\n",
      "Epoch 72/100\n",
      "14/14 [==============================] - 0s 5ms/step - loss: 0.0020 - val_loss: 0.0031\n",
      "Epoch 73/100\n",
      "14/14 [==============================] - 0s 8ms/step - loss: 0.0020 - val_loss: 0.0034\n",
      "Epoch 74/100\n",
      "14/14 [==============================] - 0s 7ms/step - loss: 0.0020 - val_loss: 0.0031\n",
      "Epoch 75/100\n",
      "14/14 [==============================] - 0s 5ms/step - loss: 0.0020 - val_loss: 0.0029\n",
      "Epoch 76/100\n",
      "14/14 [==============================] - 0s 5ms/step - loss: 0.0020 - val_loss: 0.0028\n",
      "Epoch 77/100\n",
      "14/14 [==============================] - 0s 5ms/step - loss: 0.0019 - val_loss: 0.0031\n",
      "Epoch 78/100\n",
      "14/14 [==============================] - 0s 5ms/step - loss: 0.0019 - val_loss: 0.0029\n",
      "Epoch 79/100\n",
      "14/14 [==============================] - 0s 8ms/step - loss: 0.0019 - val_loss: 0.0029\n",
      "Epoch 80/100\n",
      "14/14 [==============================] - 0s 8ms/step - loss: 0.0019 - val_loss: 0.0027\n",
      "Epoch 81/100\n",
      "14/14 [==============================] - 0s 5ms/step - loss: 0.0019 - val_loss: 0.0031\n",
      "Epoch 82/100\n",
      "14/14 [==============================] - 0s 5ms/step - loss: 0.0019 - val_loss: 0.0031\n",
      "Epoch 83/100\n"
     ]
    },
    {
     "name": "stdout",
     "output_type": "stream",
     "text": [
      "14/14 [==============================] - 0s 6ms/step - loss: 0.0019 - val_loss: 0.0033\n",
      "Epoch 84/100\n",
      "14/14 [==============================] - 0s 5ms/step - loss: 0.0019 - val_loss: 0.0031\n",
      "Epoch 85/100\n",
      "14/14 [==============================] - 0s 5ms/step - loss: 0.0019 - val_loss: 0.0033\n",
      "Epoch 86/100\n",
      "14/14 [==============================] - 0s 4ms/step - loss: 0.0019 - val_loss: 0.0027\n",
      "Epoch 87/100\n",
      "14/14 [==============================] - 0s 6ms/step - loss: 0.0019 - val_loss: 0.0028\n",
      "Epoch 88/100\n",
      "14/14 [==============================] - 0s 7ms/step - loss: 0.0018 - val_loss: 0.0030\n",
      "Epoch 89/100\n",
      "14/14 [==============================] - 0s 5ms/step - loss: 0.0018 - val_loss: 0.0030\n",
      "Epoch 90/100\n",
      "14/14 [==============================] - 0s 5ms/step - loss: 0.0018 - val_loss: 0.0030\n",
      "Epoch 91/100\n",
      "14/14 [==============================] - 0s 4ms/step - loss: 0.0018 - val_loss: 0.0031\n",
      "Epoch 92/100\n",
      "14/14 [==============================] - 0s 6ms/step - loss: 0.0018 - val_loss: 0.0029\n",
      "Epoch 93/100\n",
      "14/14 [==============================] - 0s 7ms/step - loss: 0.0018 - val_loss: 0.0028\n",
      "Epoch 94/100\n",
      "14/14 [==============================] - 0s 8ms/step - loss: 0.0018 - val_loss: 0.0028\n",
      "Epoch 95/100\n",
      "14/14 [==============================] - 0s 5ms/step - loss: 0.0018 - val_loss: 0.0029\n",
      "Epoch 96/100\n",
      "14/14 [==============================] - 0s 4ms/step - loss: 0.0018 - val_loss: 0.0030\n",
      "Epoch 97/100\n",
      "14/14 [==============================] - 0s 5ms/step - loss: 0.0018 - val_loss: 0.0027\n",
      "Epoch 98/100\n",
      "14/14 [==============================] - 0s 5ms/step - loss: 0.0018 - val_loss: 0.0027\n",
      "Epoch 99/100\n",
      "14/14 [==============================] - 0s 5ms/step - loss: 0.0017 - val_loss: 0.0029\n",
      "Epoch 100/100\n",
      "14/14 [==============================] - 0s 5ms/step - loss: 0.0017 - val_loss: 0.0028\n"
     ]
    },
    {
     "data": {
      "text/plain": [
       "<keras.callbacks.History at 0x22295b074f0>"
      ]
     },
     "execution_count": 243,
     "metadata": {},
     "output_type": "execute_result"
    }
   ],
   "source": [
    "model.fit(X_train,y_train,validation_data=(X_test,ytest),epochs=100,batch_size=64,verbose=1)"
   ]
  },
  {
   "cell_type": "code",
   "execution_count": 244,
   "id": "10376e12",
   "metadata": {},
   "outputs": [
    {
     "name": "stdout",
     "output_type": "stream",
     "text": [
      "27/27 [==============================] - 0s 2ms/step\n",
      "6/6 [==============================] - 0s 2ms/step\n",
      "2/2 [==============================] - 0s 0s/step\n"
     ]
    }
   ],
   "source": [
    "# 10. Dự báo dữ liệu test, val\n",
    "train_predict=model.predict(X_train)\n",
    "y_pred=model.predict(X_test)\n",
    "y_pred_val=model.predict(X_val)"
   ]
  },
  {
   "cell_type": "code",
   "execution_count": 245,
   "id": "f2e31007",
   "metadata": {},
   "outputs": [
    {
     "name": "stdout",
     "output_type": "stream",
     "text": [
      "860 173\n",
      "173 38\n"
     ]
    }
   ],
   "source": [
    "print(len(y_train), len(y_pred))\n",
    "print(len(ytest), len(y_pred_val))\n"
   ]
  },
  {
   "cell_type": "code",
   "execution_count": 246,
   "id": "fbeb2a39",
   "metadata": {},
   "outputs": [
    {
     "name": "stdout",
     "output_type": "stream",
     "text": [
      "860 173\n",
      "173 38\n"
     ]
    }
   ],
   "source": [
    "print(y_train.shape[0], y_pred.shape[0])\n",
    "print(ytest.shape[0], y_pred_val.shape[0])\n"
   ]
  },
  {
   "cell_type": "code",
   "execution_count": 247,
   "id": "b3e0a7d8",
   "metadata": {},
   "outputs": [],
   "source": [
    "from sklearn.preprocessing import MinMaxScaler\n",
    "\n",
    "scaler = MinMaxScaler()\n",
    "\n",
    "# Áp dụng fit_transform cho y_train\n",
    "y_train_scaled = scaler.fit_transform(y_train.reshape(-1, 1))\n",
    "\n",
    "# Áp dụng transform cho y_test và train_predict\n",
    "y_test_scaled = scaler.transform(ytest.reshape(-1, 1))\n",
    "train_predict_scaled = scaler.transform(train_predict.reshape(-1, 1))\n",
    "\n",
    "# Áp dụng inverse_transform để chuẩn hóa lại\n",
    "y_pred = scaler.inverse_transform(y_pred.reshape(-1, 1))\n",
    "y_pred_val = scaler.inverse_transform(y_pred_val.reshape(-1, 1))\n",
    "train_predict = scaler.inverse_transform(train_predict_scaled.reshape(-1, 1))\n",
    "\n"
   ]
  },
  {
   "cell_type": "code",
   "execution_count": 248,
   "id": "4f571518",
   "metadata": {},
   "outputs": [],
   "source": [
    "# 11. Chuẩn hóa dữ liệu y_pred, y_pred_val\n",
    "train_predict=scaler.inverse_transform(train_predict)\n",
    "y_pred=scaler.inverse_transform(y_pred)\n",
    "y_pred_val=scaler.inverse_transform(y_pred_val)"
   ]
  },
  {
   "cell_type": "code",
   "execution_count": 249,
   "id": "b00509c2",
   "metadata": {},
   "outputs": [
    {
     "name": "stdout",
     "output_type": "stream",
     "text": [
      "Validation RMSE: 0.23254299710586698\n",
      "Testing RMSE: 0.15953438309847487\n",
      "Training RMSE: 0.25005372881441223\n"
     ]
    }
   ],
   "source": [
    "# 12. Đánh giá độ chính xác thuật toán bằng RMSE\n",
    "valid_rmse = np.sqrt(np.mean((y_pred_val - yval)**2))\n",
    "test_rmse = np.sqrt(np.mean((y_pred - ytest)**2))\n",
    "train_rmse = np.sqrt(np.mean((train_predict - y_train)**2))\n",
    "print('Validation RMSE:', valid_rmse)\n",
    "print('Testing RMSE:', test_rmse)\n",
    "print('Training RMSE:', train_rmse)"
   ]
  },
  {
   "cell_type": "code",
   "execution_count": 250,
   "id": "ef12c763",
   "metadata": {},
   "outputs": [
    {
     "name": "stdout",
     "output_type": "stream",
     "text": [
      "Training MAPE: 67.90496990539762\n",
      "Testing MAPE: 20.18889098138585\n",
      "Validation MAPE: 25.541250812380902\n"
     ]
    }
   ],
   "source": [
    "def mean_absolute_percentage_error(y_true, y_pred):\n",
    "    return np.mean(np.abs((y_true - y_pred) / y_true)) * 100\n",
    "\n",
    "mape_val = mean_absolute_percentage_error(yval, y_pred_val)\n",
    "mape_test = mean_absolute_percentage_error(ytest, y_pred)\n",
    "mape_train = mean_absolute_percentage_error(y_train, train_predict)\n",
    "\n",
    "\n",
    "print('Training MAPE:', mape_train)\n",
    "print('Testing MAPE:', mape_test)\n",
    "print('Validation MAPE:', mape_val)\n",
    "\n"
   ]
  },
  {
   "cell_type": "code",
   "execution_count": 251,
   "id": "147420f2",
   "metadata": {},
   "outputs": [
    {
     "name": "stdout",
     "output_type": "stream",
     "text": [
      "Validation MAE: 0.22776479546665662\n",
      "Testing MAE: 0.14005789295267607\n",
      "Trainning MAE: 0.20437089640663547\n"
     ]
    }
   ],
   "source": [
    "def mean_absolute_error(y_true, y_pred):\n",
    "    return np.mean(np.abs(y_true - y_pred))\n",
    "\n",
    "mae_val = mean_absolute_error(yval, y_pred_val)\n",
    "mae_test = mean_absolute_error(ytest, y_pred)\n",
    "mae_train = mean_absolute_error(y_train,train_predict)\n",
    "\n",
    "print('Validation MAE:', mae_val)\n",
    "print('Testing MAE:', mae_test)\n",
    "print('Trainning MAE:', mae_train)\n",
    "\n"
   ]
  },
  {
   "cell_type": "code",
   "execution_count": 252,
   "id": "fc00d1b1",
   "metadata": {},
   "outputs": [
    {
     "name": "stdout",
     "output_type": "stream",
     "text": [
      "Mean Squared Error: 0.02054714190686771\n"
     ]
    }
   ],
   "source": [
    "from sklearn.metrics import mean_squared_error\n",
    "mse = mean_squared_error(ytest, y_pred)\n",
    "print(\"Mean Squared Error:\", mse)\n"
   ]
  },
  {
   "cell_type": "code",
   "execution_count": 253,
   "id": "6f6af409",
   "metadata": {},
   "outputs": [
    {
     "name": "stdout",
     "output_type": "stream",
     "text": [
      "1/1 [==============================] - 0s 23ms/step\n",
      "1/1 [==============================] - 0s 21ms/step\n",
      "1/1 [==============================] - 0s 19ms/step\n",
      "1/1 [==============================] - 0s 31ms/step\n",
      "1/1 [==============================] - 0s 31ms/step\n",
      "1/1 [==============================] - 0s 11ms/step\n",
      "1/1 [==============================] - 0s 25ms/step\n",
      "1/1 [==============================] - 0s 33ms/step\n",
      "1/1 [==============================] - 0s 15ms/step\n",
      "1/1 [==============================] - 0s 19ms/step\n",
      "1/1 [==============================] - 0s 17ms/step\n",
      "1/1 [==============================] - 0s 15ms/step\n",
      "1/1 [==============================] - 0s 37ms/step\n",
      "1/1 [==============================] - 0s 8ms/step\n",
      "1/1 [==============================] - 0s 24ms/step\n",
      "1/1 [==============================] - 0s 29ms/step\n",
      "1/1 [==============================] - 0s 10ms/step\n",
      "1/1 [==============================] - 0s 22ms/step\n",
      "1/1 [==============================] - 0s 14ms/step\n",
      "1/1 [==============================] - 0s 16ms/step\n",
      "1/1 [==============================] - 0s 21ms/step\n",
      "1/1 [==============================] - 0s 18ms/step\n",
      "1/1 [==============================] - 0s 14ms/step\n",
      "1/1 [==============================] - 0s 26ms/step\n",
      "1/1 [==============================] - 0s 10ms/step\n",
      "1/1 [==============================] - 0s 29ms/step\n",
      "1/1 [==============================] - 0s 29ms/step\n",
      "1/1 [==============================] - 0s 31ms/step\n",
      "1/1 [==============================] - 0s 47ms/step\n",
      "1/1 [==============================] - 0s 31ms/step\n",
      "Giá dự đoán 30 ngày sau: [0.580074, 0.580074, 0.580074, 0.580074, 0.580074, 0.580074, 0.580074, 0.580074, 0.580074, 0.580074, 0.580074, 0.580074, 0.580074, 0.580074, 0.580074, 0.580074, 0.580074, 0.580074, 0.580074, 0.580074, 0.580074, 0.580074, 0.580074, 0.580074, 0.580074, 0.580074, 0.580074, 0.580074, 0.580074, 0.580074]\n"
     ]
    }
   ],
   "source": [
    "def predict_30_days_nnar(model, data, time_step):\n",
    "    x_input = data[-time_step:].reshape(1, -1)  # Lấy dữ liệu cuối cùng để dự đoán\n",
    "    temp_input = list(x_input)\n",
    "    lst_output = []\n",
    "\n",
    "    for i in range(30):\n",
    "        if len(temp_input) > time_step:\n",
    "            x_input = np.array(temp_input[1:])\n",
    "            x_input = x_input.reshape(1, time_step, 1)\n",
    "            yhat = model.predict(x_input)\n",
    "            temp_input.extend(yhat.tolist())\n",
    "            temp_input = temp_input[1:]\n",
    "            lst_output.append(yhat[0][0])\n",
    "        else:\n",
    "            x_input = x_input.reshape(1, time_step, 1)\n",
    "            yhat = model.predict(x_input)\n",
    "            temp_input.extend(yhat.tolist())\n",
    "            lst_output.append(yhat[0][0])\n",
    "\n",
    "    return lst_output\n",
    "\n",
    "# Dự đoán 30 ngày tiếp theo cho dữ liệu test_data với mô hình NNAR\n",
    "prediction_nnar = predict_30_days_nnar(model, test_data, time_step)\n",
    "print(\"Giá dự đoán 30 ngày sau:\", prediction_nnar)\n"
   ]
  },
  {
   "cell_type": "code",
   "execution_count": 254,
   "id": "ccb947f8",
   "metadata": {},
   "outputs": [
    {
     "data": {
      "image/png": "[encoded data removed]",
      "text/plain": [
       "<Figure size 432x288 with 1 Axes>"
      ]
     },
     "metadata": {
      "needs_background": "light"
     },
     "output_type": "display_data"
    }
   ],
   "source": [
    "train_data_index = pd.RangeIndex(start=0, stop=train_size, step=1)\n",
    "plt.plot(scaler.inverse_transform(train_data))\n",
    "test_data_index = pd.RangeIndex(start=train_size, stop=train_size+test_size, step=1)\n",
    "plt.plot(test_data_index,scaler.inverse_transform(test_data))\n",
    "test_data_index = pd.RangeIndex(start=train_size+101, stop=train_size+test_size, step=1)\n",
    "plt.plot(test_data_index,(y_pred))\n",
    "val_data_index = pd.RangeIndex(start=train_size+test_size, stop=train_size+test_size+val_size, step=1)\n",
    "plt.plot(val_data_index,scaler.inverse_transform(val_data))\n",
    "plt.legend(['Train','Test','Predict','Validate','ValidatePred','Predict30days'])\n",
    "plt.show()"
   ]
  },
  {
   "cell_type": "code",
   "execution_count": null,
   "id": "59618cad",
   "metadata": {},
   "outputs": [],
   "source": []
  }
 ],
 "metadata": {
  "kernelspec": {
   "display_name": "Python 3 (ipykernel)",
   "language": "python",
   "name": "python3"
  },
  "language_info": {
   "codemirror_mode": {
    "name": "ipython",
    "version": 3
   },
   "file_extension": ".py",
   "mimetype": "text/x-python",
   "name": "python",
   "nbconvert_exporter": "python",
   "pygments_lexer": "ipython3",
   "version": "3.9.12"
  }
 },
 "nbformat": 4,
 "nbformat_minor": 5
}
