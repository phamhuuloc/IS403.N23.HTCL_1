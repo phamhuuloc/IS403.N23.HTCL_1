{
 "cells": [
  {
   "cell_type": "code",
   "execution_count": 1,
   "id": "d4e18197",
   "metadata": {},
   "outputs": [],
   "source": [
    "import pandas as pd\n",
    "import numpy as np\n",
    "import math\n",
    "import matplotlib.pyplot as plt\n",
    "from sklearn.preprocessing import MinMaxScaler\n",
    "from sklearn import neighbors\n",
    "from sklearn.model_selection import train_test_split\n",
    "from sklearn.metrics import r2_score, mean_squared_error, mean_absolute_error\n",
    "from sklearn.neighbors import KNeighborsRegressor\n",
    "from sklearn.metrics import confusion_matrix, accuracy_score"
   ]
  },
  {
   "cell_type": "code",
   "execution_count": 2,
   "id": "10bbb740",
   "metadata": {},
   "outputs": [],
   "source": [
    "df= pd.read_csv(\"VCB.csv\")"
   ]
  },
  {
   "cell_type": "code",
   "execution_count": 3,
   "id": "16dd996e",
   "metadata": {},
   "outputs": [
    {
     "data": {
      "text/html": [
       "<div>\n",
       "<style scoped>\n",
       "    .dataframe tbody tr th:only-of-type {\n",
       "        vertical-align: middle;\n",
       "    }\n",
       "\n",
       "    .dataframe tbody tr th {\n",
       "        vertical-align: top;\n",
       "    }\n",
       "\n",
       "    .dataframe thead th {\n",
       "        text-align: right;\n",
       "    }\n",
       "</style>\n",
       "<table border=\"1\" class=\"dataframe\">\n",
       "  <thead>\n",
       "    <tr style=\"text-align: right;\">\n",
       "      <th></th>\n",
       "      <th>Date</th>\n",
       "      <th>Close</th>\n",
       "      <th>Open</th>\n",
       "      <th>High</th>\n",
       "      <th>Low</th>\n",
       "      <th>Vol.</th>\n",
       "      <th>Change %</th>\n",
       "    </tr>\n",
       "  </thead>\n",
       "  <tbody>\n",
       "    <tr>\n",
       "      <th>0</th>\n",
       "      <td>12/1/2017</td>\n",
       "      <td>36620</td>\n",
       "      <td>36847</td>\n",
       "      <td>37075</td>\n",
       "      <td>36392</td>\n",
       "      <td>2.66M</td>\n",
       "      <td>-0.41%</td>\n",
       "    </tr>\n",
       "    <tr>\n",
       "      <th>1</th>\n",
       "      <td>12/4/2017</td>\n",
       "      <td>37454</td>\n",
       "      <td>36772</td>\n",
       "      <td>37454</td>\n",
       "      <td>36620</td>\n",
       "      <td>2.48M</td>\n",
       "      <td>2.28%</td>\n",
       "    </tr>\n",
       "    <tr>\n",
       "      <th>2</th>\n",
       "      <td>12/5/2017</td>\n",
       "      <td>36468</td>\n",
       "      <td>37151</td>\n",
       "      <td>37909</td>\n",
       "      <td>36468</td>\n",
       "      <td>2.52M</td>\n",
       "      <td>-2.63%</td>\n",
       "    </tr>\n",
       "    <tr>\n",
       "      <th>3</th>\n",
       "      <td>12/6/2017</td>\n",
       "      <td>36392</td>\n",
       "      <td>36392</td>\n",
       "      <td>36620</td>\n",
       "      <td>35710</td>\n",
       "      <td>2.68M</td>\n",
       "      <td>-0.21%</td>\n",
       "    </tr>\n",
       "    <tr>\n",
       "      <th>4</th>\n",
       "      <td>12/7/2017</td>\n",
       "      <td>36089</td>\n",
       "      <td>36392</td>\n",
       "      <td>36392</td>\n",
       "      <td>35407</td>\n",
       "      <td>3.49M</td>\n",
       "      <td>-0.83%</td>\n",
       "    </tr>\n",
       "    <tr>\n",
       "      <th>...</th>\n",
       "      <td>...</td>\n",
       "      <td>...</td>\n",
       "      <td>...</td>\n",
       "      <td>...</td>\n",
       "      <td>...</td>\n",
       "      <td>...</td>\n",
       "      <td>...</td>\n",
       "    </tr>\n",
       "    <tr>\n",
       "      <th>1369</th>\n",
       "      <td>6/1/2023</td>\n",
       "      <td>93900</td>\n",
       "      <td>94600</td>\n",
       "      <td>94600</td>\n",
       "      <td>93200</td>\n",
       "      <td>646.30K</td>\n",
       "      <td>-0.11%</td>\n",
       "    </tr>\n",
       "    <tr>\n",
       "      <th>1370</th>\n",
       "      <td>6/2/2023</td>\n",
       "      <td>94900</td>\n",
       "      <td>93900</td>\n",
       "      <td>95000</td>\n",
       "      <td>93300</td>\n",
       "      <td>737.80K</td>\n",
       "      <td>1.06%</td>\n",
       "    </tr>\n",
       "    <tr>\n",
       "      <th>1371</th>\n",
       "      <td>6/5/2023</td>\n",
       "      <td>98000</td>\n",
       "      <td>95200</td>\n",
       "      <td>98700</td>\n",
       "      <td>95200</td>\n",
       "      <td>1.30M</td>\n",
       "      <td>3.27%</td>\n",
       "    </tr>\n",
       "    <tr>\n",
       "      <th>1372</th>\n",
       "      <td>6/6/2023</td>\n",
       "      <td>99000</td>\n",
       "      <td>98000</td>\n",
       "      <td>99000</td>\n",
       "      <td>96500</td>\n",
       "      <td>759.50K</td>\n",
       "      <td>1.02%</td>\n",
       "    </tr>\n",
       "    <tr>\n",
       "      <th>1373</th>\n",
       "      <td>6/7/2023</td>\n",
       "      <td>97000</td>\n",
       "      <td>99000</td>\n",
       "      <td>99000</td>\n",
       "      <td>97000</td>\n",
       "      <td>749.60K</td>\n",
       "      <td>-2.02%</td>\n",
       "    </tr>\n",
       "  </tbody>\n",
       "</table>\n",
       "<p>1374 rows × 7 columns</p>\n",
       "</div>"
      ],
      "text/plain": [
       "           Date  Close   Open   High    Low     Vol. Change %\n",
       "0     12/1/2017  36620  36847  37075  36392    2.66M   -0.41%\n",
       "1     12/4/2017  37454  36772  37454  36620    2.48M    2.28%\n",
       "2     12/5/2017  36468  37151  37909  36468    2.52M   -2.63%\n",
       "3     12/6/2017  36392  36392  36620  35710    2.68M   -0.21%\n",
       "4     12/7/2017  36089  36392  36392  35407    3.49M   -0.83%\n",
       "...         ...    ...    ...    ...    ...      ...      ...\n",
       "1369   6/1/2023  93900  94600  94600  93200  646.30K   -0.11%\n",
       "1370   6/2/2023  94900  93900  95000  93300  737.80K    1.06%\n",
       "1371   6/5/2023  98000  95200  98700  95200    1.30M    3.27%\n",
       "1372   6/6/2023  99000  98000  99000  96500  759.50K    1.02%\n",
       "1373   6/7/2023  97000  99000  99000  97000  749.60K   -2.02%\n",
       "\n",
       "[1374 rows x 7 columns]"
      ]
     },
     "execution_count": 3,
     "metadata": {},
     "output_type": "execute_result"
    }
   ],
   "source": [
    "df"
   ]
  },
  {
   "cell_type": "code",
   "execution_count": 4,
   "id": "9b5da2f8",
   "metadata": {},
   "outputs": [],
   "source": [
    "#gắng index với giá Close\n",
    "df1=df.reset_index()['Close']"
   ]
  },
  {
   "cell_type": "code",
   "execution_count": 5,
   "id": "569bb53b",
   "metadata": {},
   "outputs": [
    {
     "data": {
      "text/plain": [
       "0       36620\n",
       "1       37454\n",
       "2       36468\n",
       "3       36392\n",
       "4       36089\n",
       "        ...  \n",
       "1369    93900\n",
       "1370    94900\n",
       "1371    98000\n",
       "1372    99000\n",
       "1373    97000\n",
       "Name: Close, Length: 1374, dtype: int64"
      ]
     },
     "execution_count": 5,
     "metadata": {},
     "output_type": "execute_result"
    }
   ],
   "source": [
    "df1"
   ]
  },
  {
   "cell_type": "code",
   "execution_count": 6,
   "id": "09a82158",
   "metadata": {},
   "outputs": [],
   "source": [
    "# 3. Scaler data\n",
    "scaler=MinMaxScaler(feature_range=(0,1))\n",
    "df1=scaler.fit_transform(np.array(df1).reshape(-1,1))"
   ]
  },
  {
   "cell_type": "code",
   "execution_count": 7,
   "id": "8034678a",
   "metadata": {},
   "outputs": [],
   "source": [
    "# 4. Chia train test\n",
    "train_size = int(0.7 * len(df1))\n",
    "test_size = int(0.2 * len(df1))\n",
    "val_size = len(df1) - train_size - test_size\n",
    "\n",
    "train_data = df1[:train_size]\n",
    "test_data = df1[train_size:train_size+test_size]\n",
    "val_data = df1[train_size+test_size:]"
   ]
  },
  {
   "cell_type": "code",
   "execution_count": 8,
   "id": "f420f610",
   "metadata": {},
   "outputs": [
    {
     "data": {
      "text/plain": [
       "(961, 1)"
      ]
     },
     "execution_count": 8,
     "metadata": {},
     "output_type": "execute_result"
    }
   ],
   "source": [
    "train_data.shape"
   ]
  },
  {
   "cell_type": "code",
   "execution_count": 9,
   "id": "84476fc3",
   "metadata": {},
   "outputs": [],
   "source": [
    "# 5. Hàm Create Dataset\n",
    "import numpy\n",
    "# convert an array of values into a dataset matrix\n",
    "def create_dataset(dataset, time_step=1):\n",
    "\tdataX, dataY = [], []\n",
    "\tfor i in range(len(dataset)-time_step-1):\n",
    "\t\ta = dataset[i:(i+time_step), 0]   ###i=0, X=0,1,2,3-----99   Y=100 \n",
    "\t\tdataX.append(a)\n",
    "\t\tdataY.append(dataset[i + time_step, 0])\n",
    "\treturn numpy.array(dataX), numpy.array(dataY)"
   ]
  },
  {
   "cell_type": "code",
   "execution_count": 10,
   "id": "812a1ac2",
   "metadata": {},
   "outputs": [],
   "source": [
    "#6. Reshape into X=t,t+1,t+2..t+99 and Y=t+100\n",
    "time_step = 100\n",
    "X_train, y_train = create_dataset(train_data, time_step)\n",
    "X_val, yval = create_dataset(val_data, time_step)\n",
    "X_test, ytest = create_dataset(test_data, time_step)"
   ]
  },
  {
   "cell_type": "code",
   "execution_count": 11,
   "id": "ef5ec3ae",
   "metadata": {},
   "outputs": [],
   "source": [
    "# 7. Reshape input to be [samples, time steps, features] which is required for LSTM\n",
    "X_train =X_train.reshape(X_train.shape[0],X_train.shape[1] , 1)\n",
    "X_test = X_test.reshape(X_test.shape[0],X_test.shape[1] , 1)\n",
    "X_val = X_val.reshape(X_val.shape[0],X_val.shape[1] , 1)"
   ]
  },
  {
   "cell_type": "code",
   "execution_count": 12,
   "id": "c8219f1e",
   "metadata": {},
   "outputs": [
    {
     "data": {
      "text/plain": [
       "(860, 100, 1)"
      ]
     },
     "execution_count": 12,
     "metadata": {},
     "output_type": "execute_result"
    }
   ],
   "source": [
    "X_train.shape"
   ]
  },
  {
   "cell_type": "code",
   "execution_count": 13,
   "id": "65ad739a",
   "metadata": {},
   "outputs": [],
   "source": [
    "X_train = numpy.reshape(X_train, (X_train.shape[0], X_train.shape[1], 1))\n",
    "X_val = numpy.reshape(X_val, (X_val.shape[0], X_val.shape[1], 1))\n",
    "X_test = numpy.reshape(X_test, (X_test.shape[0], X_test.shape[1], 1))\n"
   ]
  },
  {
   "cell_type": "code",
   "execution_count": 14,
   "id": "7cf19224",
   "metadata": {},
   "outputs": [],
   "source": [
    "# Thay đổi kích thước của dữ liệu huấn luyện\n",
    "X_train = X_train.reshape(X_train.shape[0], X_train.shape[1])\n",
    "\n",
    "# Thay đổi kích thước của dữ liệu kiểm tra\n",
    "X_val = X_val.reshape(X_val.shape[0], X_val.shape[1])\n",
    "X_test = X_test.reshape(X_test.shape[0], X_test.shape[1])\n"
   ]
  },
  {
   "cell_type": "code",
   "execution_count": 15,
   "id": "a05656c6",
   "metadata": {},
   "outputs": [],
   "source": [
    "from sklearn import neighbors\n",
    "from sklearn.neighbors import KNeighborsRegressor\n",
    "\n",
    "K = time_step\n",
    "neighbor = neighbors.KNeighborsRegressor(n_neighbors = K)\n"
   ]
  },
  {
   "cell_type": "code",
   "execution_count": 16,
   "id": "791531de",
   "metadata": {},
   "outputs": [
    {
     "data": {
      "text/plain": [
       "KNeighborsRegressor(n_neighbors=100)"
      ]
     },
     "execution_count": 16,
     "metadata": {},
     "output_type": "execute_result"
    }
   ],
   "source": [
    "neighbor.fit(X_train, y_train)"
   ]
  },
  {
   "cell_type": "code",
   "execution_count": 17,
   "id": "0e4e5524",
   "metadata": {},
   "outputs": [
    {
     "name": "stdout",
     "output_type": "stream",
     "text": [
      "Train data prediction: (860, 1)\n",
      "Test data prediction: (173, 1)\n"
     ]
    }
   ],
   "source": [
    "# Lets Do the prediction \n",
    "\n",
    "train_predict=neighbor.predict(X_train)\n",
    "test_predict=neighbor.predict(X_test)\n",
    "\n",
    "train_predict = train_predict.reshape(-1,1)\n",
    "test_predict = test_predict.reshape(-1,1)\n",
    "\n",
    "print(\"Train data prediction:\", train_predict.shape)\n",
    "print(\"Test data prediction:\", test_predict.shape)"
   ]
  },
  {
   "cell_type": "code",
   "execution_count": 18,
   "id": "67408ef1",
   "metadata": {},
   "outputs": [],
   "source": [
    "# Transform back to original form\n",
    "\n",
    "train_predict = scaler.inverse_transform(train_predict)\n",
    "test_predict = scaler.inverse_transform(test_predict)\n",
    "original_ytrain = scaler.inverse_transform(y_train.reshape(-1,1)) \n",
    "original_ytest = scaler.inverse_transform(ytest.reshape(-1,1)) "
   ]
  },
  {
   "cell_type": "code",
   "execution_count": 19,
   "id": "5e11ad7d",
   "metadata": {},
   "outputs": [
    {
     "name": "stdout",
     "output_type": "stream",
     "text": [
      "Train data RMSE:  3571.4974780928037\n",
      "Train data MSE:  12755594.236023258\n",
      "Test data MAE:  2607.966209302326\n",
      "-------------------------------------------------------------------------------------\n",
      "Test data RMSE:  4647.33884534581\n",
      "Test data MSE:  21597758.343460124\n",
      "Test data MAE:  3731.571676300576\n"
     ]
    }
   ],
   "source": [
    "# Evaluation metrices RMSE and MAE\n",
    "print(\"Train data RMSE: \", math.sqrt(mean_squared_error(original_ytrain,train_predict)))\n",
    "print(\"Train data MSE: \", mean_squared_error(original_ytrain,train_predict))\n",
    "print(\"Test data MAE: \", mean_absolute_error(original_ytrain,train_predict))\n",
    "print(\"-------------------------------------------------------------------------------------\")\n",
    "print(\"Test data RMSE: \", math.sqrt(mean_squared_error(original_ytest,test_predict)))\n",
    "print(\"Test data MSE: \", mean_squared_error(original_ytest,test_predict))\n",
    "print(\"Test data MAE: \", mean_absolute_error(original_ytest,test_predict))"
   ]
  },
  {
   "cell_type": "code",
   "execution_count": 20,
   "id": "d352562f",
   "metadata": {},
   "outputs": [],
   "source": [
    "#from sklearn.metrics import explained_variance_score\n",
    "#print(\"Train data explained variance regression score:\", explained_variance_score(original_ytrain, train_predict))\n",
    "#print(\"Test data explained variance regression score:\", explained_variance_score(original_ytest, test_predict))"
   ]
  },
  {
   "cell_type": "code",
   "execution_count": 21,
   "id": "108a705c",
   "metadata": {},
   "outputs": [],
   "source": [
    "#print(\"Train data R2 score:\", r2_score(original_ytrain, train_predict))\n",
    "#print(\"Test data R2 score:\", r2_score(original_ytest, test_predict))"
   ]
  },
  {
   "cell_type": "code",
   "execution_count": 22,
   "id": "a59a17fb",
   "metadata": {},
   "outputs": [],
   "source": [
    "#def predict_30_days(model, data, features):\n",
    "    # Chia dữ liệu thành input (X) và output (y)\n",
    " #   X = data[features]\n",
    "  #  y = data[target]\n",
    "    \n",
    "    # Fit model vào dữ liệu\n",
    "   # model.fit(X, y)\n",
    "    \n",
    "    # Dự đoán giá 30 ngày sau\n",
    "    #last_day = X.iloc[-1]\n",
    "    #prediction = model.predict([last_day])[0]\n",
    "    \n",
    "    #return prediction\n"
   ]
  },
  {
   "cell_type": "code",
   "execution_count": 23,
   "id": "3e801496",
   "metadata": {},
   "outputs": [],
   "source": [
    "# Khởi tạo mô hình KNN với số lượng hàng xóm là 5\n",
    "#regressor = KNeighborsRegressor(n_neighbors=5)\n",
    "\n",
    "# Dự đoán giá 30 ngày sau cho dữ liệu test_data với các đặc trưng features\n",
    "#prediction = predict_30_days(regressor, test_data, )\n",
    "#print(\"Giá dự đoán 30 ngày sau:\", prediction)"
   ]
  },
  {
   "cell_type": "markdown",
   "id": "56ce351e",
   "metadata": {},
   "source": [
    "# code sau tham khảo "
   ]
  },
  {
   "cell_type": "code",
   "execution_count": 24,
   "id": "7f2af975",
   "metadata": {},
   "outputs": [],
   "source": [
    "#predict value against test\n",
    "y_pred=neighbor.predict(X_test)"
   ]
  },
  {
   "cell_type": "code",
   "execution_count": 25,
   "id": "2022fc1b",
   "metadata": {},
   "outputs": [
    {
     "name": "stdout",
     "output_type": "stream",
     "text": [
      "R2 Score: 0.9205741534337882\n",
      "Mean Squared Error: 0.002960489675375382\n",
      "Root Mean Squared Error: 0.05441038205503966\n",
      "Mean Absolute Error: 0.039731356022277974\n"
     ]
    }
   ],
   "source": [
    "#evaluate model's performance on train data\n",
    "predict = neighbor.predict(X_train)\n",
    "r2 = r2_score(y_train, predict)\n",
    "mse = mean_squared_error(y_train, predict)\n",
    "rmse = mean_squared_error(y_train, predict, squared=False)\n",
    "mae = mean_absolute_error(y_train, predict)\n",
    "print(\"R2 Score:\", r2)\n",
    "print(\"Mean Squared Error:\", mse)\n",
    "print(\"Root Mean Squared Error:\", rmse)\n",
    "print(\"Mean Absolute Error:\", mae)"
   ]
  },
  {
   "cell_type": "code",
   "execution_count": 26,
   "id": "00de6c5e",
   "metadata": {},
   "outputs": [
    {
     "name": "stdout",
     "output_type": "stream",
     "text": [
      "R2 Score: 0.08489474825657273\n",
      "Mean Squared Error: 0.005012697911516539\n",
      "Root Mean Squared Error: 0.07080040897845534\n",
      "Mean Absolute Error: 0.056849050522556004\n"
     ]
    }
   ],
   "source": [
    "#evaluate model's performance on test data\n",
    "r2 = r2_score(ytest, y_pred)\n",
    "mse = mean_squared_error(ytest, y_pred)\n",
    "rmse = mean_squared_error(ytest, y_pred, squared=False)\n",
    "mae = mean_absolute_error(ytest, y_pred)\n",
    "print(\"R2 Score:\", r2)\n",
    "print(\"Mean Squared Error:\", mse)\n",
    "print(\"Root Mean Squared Error:\", rmse)\n",
    "print(\"Mean Absolute Error:\", mae)"
   ]
  },
  {
   "cell_type": "code",
   "execution_count": 27,
   "id": "44be4d8a",
   "metadata": {},
   "outputs": [
    {
     "name": "stdout",
     "output_type": "stream",
     "text": [
      "Giá dự đoán 30 ngày sau: [0.6648308957952469, 0.6648308957952469, 0.6648308957952469, 0.6648308957952469, 0.6648308957952469, 0.6648308957952469, 0.6648308957952469, 0.6648308957952469, 0.6648308957952469, 0.6648308957952469, 0.6648308957952469, 0.6648308957952469, 0.6648308957952469, 0.6648308957952469, 0.6648308957952469, 0.6648308957952469, 0.6648308957952469, 0.6648308957952469, 0.6648308957952469, 0.6648308957952469, 0.6648308957952469, 0.6648308957952469, 0.6648308957952469, 0.6648308957952469, 0.6648308957952469, 0.6648308957952469, 0.6648308957952469, 0.6648308957952469, 0.6648308957952469, 0.6648308957952469]\n"
     ]
    }
   ],
   "source": [
    "def predict_30_days_knn(model, data, time_step):\n",
    "    x_input = data[-time_step:].reshape(1, -1)  # Lấy dữ liệu cuối cùng để dự đoán\n",
    "    temp_input = list(x_input)\n",
    "    lst_output = []\n",
    "\n",
    "    for i in range(30):\n",
    "        if len(temp_input) > time_step:\n",
    "            x_input = np.array(temp_input[1:])\n",
    "            x_input = x_input.reshape(1, -1)\n",
    "            yhat = model.predict(x_input)\n",
    "            temp_input.extend(yhat.tolist())\n",
    "            temp_input = temp_input[1:]\n",
    "            lst_output.append(yhat[0])\n",
    "        else:\n",
    "            x_input = x_input.reshape(1, -1)\n",
    "            yhat = model.predict(x_input)\n",
    "            temp_input.extend(yhat.tolist())\n",
    "            lst_output.append(yhat[0])\n",
    "\n",
    "    return lst_output\n",
    "\n",
    "# Dự đoán 30 ngày tiếp theo cho dữ liệu test_data với mô hình KNN\n",
    "prediction_knn = predict_30_days_knn(neighbor, test_data, time_step)\n",
    "print(\"Giá dự đoán 30 ngày sau:\", prediction_knn)\n"
   ]
  },
  {
   "cell_type": "code",
   "execution_count": 28,
   "id": "842a2e65",
   "metadata": {},
   "outputs": [
    {
     "ename": "NameError",
     "evalue": "name 'y_pred_val' is not defined",
     "output_type": "error",
     "traceback": [
      "\u001b[1;31m---------------------------------------------------------------------------\u001b[0m",
      "\u001b[1;31mNameError\u001b[0m                                 Traceback (most recent call last)",
      "Input \u001b[1;32mIn [28]\u001b[0m, in \u001b[0;36m<cell line: 12>\u001b[1;34m()\u001b[0m\n\u001b[0;32m     10\u001b[0m plt\u001b[38;5;241m.\u001b[39mplot(val_data_index,scaler\u001b[38;5;241m.\u001b[39minverse_transform(val_data))\n\u001b[0;32m     11\u001b[0m val_data_index \u001b[38;5;241m=\u001b[39m pd\u001b[38;5;241m.\u001b[39mRangeIndex(start\u001b[38;5;241m=\u001b[39mtrain_size\u001b[38;5;241m+\u001b[39mtest_size\u001b[38;5;241m+\u001b[39m\u001b[38;5;241m101\u001b[39m, stop\u001b[38;5;241m=\u001b[39mtrain_size\u001b[38;5;241m+\u001b[39mtest_size\u001b[38;5;241m+\u001b[39mval_size, step\u001b[38;5;241m=\u001b[39m\u001b[38;5;241m1\u001b[39m)\n\u001b[1;32m---> 12\u001b[0m plt\u001b[38;5;241m.\u001b[39mplot(val_data_index,\u001b[43my_pred_val\u001b[49m)\n\u001b[0;32m     13\u001b[0m prediect_data_index \u001b[38;5;241m=\u001b[39m pd\u001b[38;5;241m.\u001b[39mRangeIndex(start\u001b[38;5;241m=\u001b[39m\u001b[38;5;28mlen\u001b[39m(df1)\u001b[38;5;241m-\u001b[39m\u001b[38;5;241m1\u001b[39m, stop\u001b[38;5;241m=\u001b[39m\u001b[38;5;28mlen\u001b[39m(df1)\u001b[38;5;241m+\u001b[39m\u001b[38;5;241m29\u001b[39m, step\u001b[38;5;241m=\u001b[39m\u001b[38;5;241m1\u001b[39m)\n\u001b[0;32m     14\u001b[0m plt\u001b[38;5;241m.\u001b[39mplot(prediect_data_index,scaler\u001b[38;5;241m.\u001b[39minverse_transform(lst_output))\n",
      "\u001b[1;31mNameError\u001b[0m: name 'y_pred_val' is not defined"
     ]
    },
    {
     "data": {
      "image/png": "[encoded data removed]",
      "text/plain": [
       "<Figure size 432x288 with 1 Axes>"
      ]
     },
     "metadata": {
      "needs_background": "light"
     },
     "output_type": "display_data"
    }
   ],
   "source": [
    "# 14.Vẽ hình\n",
    "\n",
    "train_data_index = pd.RangeIndex(start=0, stop=train_size, step=1)\n",
    "plt.plot(scaler.inverse_transform(train_data))\n",
    "test_data_index = pd.RangeIndex(start=train_size, stop=train_size+test_size, step=1)\n",
    "plt.plot(test_data_index,scaler.inverse_transform(test_data))\n",
    "test_data_index = pd.RangeIndex(start=train_size+101, stop=train_size+test_size, step=1)\n",
    "plt.plot(test_data_index,(y_pred))\n",
    "val_data_index = pd.RangeIndex(start=train_size+test_size, stop=train_size+test_size+val_size, step=1)\n",
    "plt.plot(val_data_index,scaler.inverse_transform(val_data))\n",
    "val_data_index = pd.RangeIndex(start=train_size+test_size+101, stop=train_size+test_size+val_size, step=1)\n",
    "plt.plot(val_data_index,y_pred_val)\n",
    "prediect_data_index = pd.RangeIndex(start=len(df1)-1, stop=len(df1)+29, step=1)\n",
    "plt.plot(prediect_data_index,scaler.inverse_transform(lst_output))\n",
    "plt.legend(['Train','Test','Predict','Validate','ValidatePred','Predict30days'])\n",
    "plt.show()"
   ]
  },
  {
   "cell_type": "code",
   "execution_count": null,
   "id": "1db3a8eb",
   "metadata": {},
   "outputs": [],
   "source": []
  }
 ],
 "metadata": {
  "kernelspec": {
   "display_name": "Python 3 (ipykernel)",
   "language": "python",
   "name": "python3"
  },
  "language_info": {
   "codemirror_mode": {
    "name": "ipython",
    "version": 3
   },
   "file_extension": ".py",
   "mimetype": "text/x-python",
   "name": "python",
   "nbconvert_exporter": "python",
   "pygments_lexer": "ipython3",
   "version": "3.9.12"
  }
 },
 "nbformat": 4,
 "nbformat_minor": 5
}
