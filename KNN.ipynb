{
 "cells": [
  {
   "cell_type": "code",
   "execution_count": 339,
   "id": "d4e18197",
   "metadata": {},
   "outputs": [],
   "source": [
    "import pandas as pd\n",
    "import numpy as np\n",
    "import math\n",
    "import matplotlib.pyplot as plt\n",
    "from sklearn.preprocessing import MinMaxScaler\n",
    "from sklearn import neighbors\n",
    "from sklearn.model_selection import train_test_split\n",
    "from sklearn.metrics import r2_score, mean_squared_error, mean_absolute_error\n",
    "from sklearn.neighbors import KNeighborsRegressor\n",
    "from sklearn.metrics import confusion_matrix, accuracy_score"
   ]
  },
  {
   "cell_type": "code",
   "execution_count": 340,
   "id": "10bbb740",
   "metadata": {},
   "outputs": [],
   "source": [
    "df= pd.read_csv(\"VNM.csv\")"
   ]
  },
  {
   "cell_type": "code",
   "execution_count": 341,
   "id": "16dd996e",
   "metadata": {},
   "outputs": [
    {
     "data": {
      "text/html": [
       "<div>\n",
       "<style scoped>\n",
       "    .dataframe tbody tr th:only-of-type {\n",
       "        vertical-align: middle;\n",
       "    }\n",
       "\n",
       "    .dataframe tbody tr th {\n",
       "        vertical-align: top;\n",
       "    }\n",
       "\n",
       "    .dataframe thead th {\n",
       "        text-align: right;\n",
       "    }\n",
       "</style>\n",
       "<table border=\"1\" class=\"dataframe\">\n",
       "  <thead>\n",
       "    <tr style=\"text-align: right;\">\n",
       "      <th></th>\n",
       "      <th>Date</th>\n",
       "      <th>Close</th>\n",
       "      <th>Open</th>\n",
       "      <th>High</th>\n",
       "      <th>Low</th>\n",
       "      <th>Volume</th>\n",
       "      <th>Change %</th>\n",
       "    </tr>\n",
       "  </thead>\n",
       "  <tbody>\n",
       "    <tr>\n",
       "      <th>0</th>\n",
       "      <td>12/1/2017</td>\n",
       "      <td>159039</td>\n",
       "      <td>151736</td>\n",
       "      <td>159039</td>\n",
       "      <td>151736</td>\n",
       "      <td>1.50M</td>\n",
       "      <td>4.98%</td>\n",
       "    </tr>\n",
       "    <tr>\n",
       "      <th>1</th>\n",
       "      <td>12/4/2017</td>\n",
       "      <td>164719</td>\n",
       "      <td>159039</td>\n",
       "      <td>166423</td>\n",
       "      <td>159039</td>\n",
       "      <td>1.70M</td>\n",
       "      <td>3.57%</td>\n",
       "    </tr>\n",
       "    <tr>\n",
       "      <th>2</th>\n",
       "      <td>12/5/2017</td>\n",
       "      <td>161473</td>\n",
       "      <td>164719</td>\n",
       "      <td>166342</td>\n",
       "      <td>160662</td>\n",
       "      <td>852.08K</td>\n",
       "      <td>-1.97%</td>\n",
       "    </tr>\n",
       "    <tr>\n",
       "      <th>3</th>\n",
       "      <td>12/6/2017</td>\n",
       "      <td>158227</td>\n",
       "      <td>158227</td>\n",
       "      <td>159850</td>\n",
       "      <td>151898</td>\n",
       "      <td>1.14M</td>\n",
       "      <td>-2.01%</td>\n",
       "    </tr>\n",
       "    <tr>\n",
       "      <th>4</th>\n",
       "      <td>12/7/2017</td>\n",
       "      <td>150924</td>\n",
       "      <td>158227</td>\n",
       "      <td>160580</td>\n",
       "      <td>150924</td>\n",
       "      <td>1.43M</td>\n",
       "      <td>-4.62%</td>\n",
       "    </tr>\n",
       "    <tr>\n",
       "      <th>...</th>\n",
       "      <td>...</td>\n",
       "      <td>...</td>\n",
       "      <td>...</td>\n",
       "      <td>...</td>\n",
       "      <td>...</td>\n",
       "      <td>...</td>\n",
       "      <td>...</td>\n",
       "    </tr>\n",
       "    <tr>\n",
       "      <th>1369</th>\n",
       "      <td>6/1/2023</td>\n",
       "      <td>66100</td>\n",
       "      <td>66100</td>\n",
       "      <td>66500</td>\n",
       "      <td>66000</td>\n",
       "      <td>1.21M</td>\n",
       "      <td>0.00%</td>\n",
       "    </tr>\n",
       "    <tr>\n",
       "      <th>1370</th>\n",
       "      <td>6/2/2023</td>\n",
       "      <td>65900</td>\n",
       "      <td>66200</td>\n",
       "      <td>66300</td>\n",
       "      <td>65500</td>\n",
       "      <td>2.97M</td>\n",
       "      <td>-0.30%</td>\n",
       "    </tr>\n",
       "    <tr>\n",
       "      <th>1371</th>\n",
       "      <td>6/5/2023</td>\n",
       "      <td>66500</td>\n",
       "      <td>66500</td>\n",
       "      <td>67200</td>\n",
       "      <td>66200</td>\n",
       "      <td>3.32M</td>\n",
       "      <td>0.91%</td>\n",
       "    </tr>\n",
       "    <tr>\n",
       "      <th>1372</th>\n",
       "      <td>6/6/2023</td>\n",
       "      <td>66400</td>\n",
       "      <td>66900</td>\n",
       "      <td>66900</td>\n",
       "      <td>66000</td>\n",
       "      <td>3.42M</td>\n",
       "      <td>-0.15%</td>\n",
       "    </tr>\n",
       "    <tr>\n",
       "      <th>1373</th>\n",
       "      <td>6/7/2023</td>\n",
       "      <td>66200</td>\n",
       "      <td>66500</td>\n",
       "      <td>66700</td>\n",
       "      <td>66000</td>\n",
       "      <td>3.72M</td>\n",
       "      <td>-0.30%</td>\n",
       "    </tr>\n",
       "  </tbody>\n",
       "</table>\n",
       "<p>1374 rows × 7 columns</p>\n",
       "</div>"
      ],
      "text/plain": [
       "           Date   Close    Open    High     Low   Volume Change %\n",
       "0     12/1/2017  159039  151736  159039  151736    1.50M    4.98%\n",
       "1     12/4/2017  164719  159039  166423  159039    1.70M    3.57%\n",
       "2     12/5/2017  161473  164719  166342  160662  852.08K   -1.97%\n",
       "3     12/6/2017  158227  158227  159850  151898    1.14M   -2.01%\n",
       "4     12/7/2017  150924  158227  160580  150924    1.43M   -4.62%\n",
       "...         ...     ...     ...     ...     ...      ...      ...\n",
       "1369   6/1/2023   66100   66100   66500   66000    1.21M    0.00%\n",
       "1370   6/2/2023   65900   66200   66300   65500    2.97M   -0.30%\n",
       "1371   6/5/2023   66500   66500   67200   66200    3.32M    0.91%\n",
       "1372   6/6/2023   66400   66900   66900   66000    3.42M   -0.15%\n",
       "1373   6/7/2023   66200   66500   66700   66000    3.72M   -0.30%\n",
       "\n",
       "[1374 rows x 7 columns]"
      ]
     },
     "execution_count": 341,
     "metadata": {},
     "output_type": "execute_result"
    }
   ],
   "source": [
    "df"
   ]
  },
  {
   "cell_type": "code",
   "execution_count": 342,
   "id": "9b5da2f8",
   "metadata": {},
   "outputs": [],
   "source": [
    "#gắng index với giá Close\n",
    "df1=df.reset_index()['Close']"
   ]
  },
  {
   "cell_type": "code",
   "execution_count": 343,
   "id": "569bb53b",
   "metadata": {},
   "outputs": [
    {
     "data": {
      "text/plain": [
       "0       159039\n",
       "1       164719\n",
       "2       161473\n",
       "3       158227\n",
       "4       150924\n",
       "         ...  \n",
       "1369     66100\n",
       "1370     65900\n",
       "1371     66500\n",
       "1372     66400\n",
       "1373     66200\n",
       "Name: Close, Length: 1374, dtype: int64"
      ]
     },
     "execution_count": 343,
     "metadata": {},
     "output_type": "execute_result"
    }
   ],
   "source": [
    "df1"
   ]
  },
  {
   "cell_type": "code",
   "execution_count": 344,
   "id": "09a82158",
   "metadata": {},
   "outputs": [],
   "source": [
    "# 3. Scaler data\n",
    "scaler=MinMaxScaler(feature_range=(0,1))\n",
    "df1=scaler.fit_transform(np.array(df1).reshape(-1,1))"
   ]
  },
  {
   "cell_type": "code",
   "execution_count": 345,
   "id": "8034678a",
   "metadata": {},
   "outputs": [],
   "source": [
    "# 4. Chia train test\n",
    "train_size = int(0.7 * len(df1))\n",
    "test_size = int(0.2 * len(df1))\n",
    "val_size = len(df1) - train_size - test_size\n",
    "\n",
    "train_data = df1[:train_size]\n",
    "test_data = df1[train_size:train_size+test_size]\n",
    "val_data = df1[train_size+test_size:]"
   ]
  },
  {
   "cell_type": "code",
   "execution_count": 346,
   "id": "f420f610",
   "metadata": {},
   "outputs": [
    {
     "data": {
      "text/plain": [
       "(961, 1)"
      ]
     },
     "execution_count": 346,
     "metadata": {},
     "output_type": "execute_result"
    }
   ],
   "source": [
    "train_data.shape"
   ]
  },
  {
   "cell_type": "code",
   "execution_count": 347,
   "id": "84476fc3",
   "metadata": {},
   "outputs": [],
   "source": [
    "# 5. Hàm Create Dataset\n",
    "import numpy\n",
    "# convert an array of values into a dataset matrix\n",
    "def create_dataset(dataset, time_step=1):\n",
    "\tdataX, dataY = [], []\n",
    "\tfor i in range(len(dataset)-time_step-1):\n",
    "\t\ta = dataset[i:(i+time_step), 0]   ###i=0, X=0,1,2,3-----99   Y=100 \n",
    "\t\tdataX.append(a)\n",
    "\t\tdataY.append(dataset[i + time_step, 0])\n",
    "\treturn numpy.array(dataX), numpy.array(dataY)"
   ]
  },
  {
   "cell_type": "code",
   "execution_count": 348,
   "id": "812a1ac2",
   "metadata": {},
   "outputs": [],
   "source": [
    "#6. Reshape into X=t,t+1,t+2..t+99 and Y=t+100\n",
    "time_step = 100\n",
    "X_train, y_train = create_dataset(train_data, time_step)\n",
    "X_val, yval = create_dataset(val_data, time_step)\n",
    "X_test, ytest = create_dataset(test_data, time_step)"
   ]
  },
  {
   "cell_type": "code",
   "execution_count": 349,
   "id": "ef5ec3ae",
   "metadata": {},
   "outputs": [],
   "source": [
    "# 7. Reshape input to be [samples, time steps, features] which is required for LSTM\n",
    "X_train =X_train.reshape(X_train.shape[0],X_train.shape[1] , 1)\n",
    "X_test = X_test.reshape(X_test.shape[0],X_test.shape[1] , 1)\n",
    "X_val = X_val.reshape(X_val.shape[0],X_val.shape[1] , 1)"
   ]
  },
  {
   "cell_type": "code",
   "execution_count": 350,
   "id": "c8219f1e",
   "metadata": {},
   "outputs": [
    {
     "data": {
      "text/plain": [
       "(860, 100, 1)"
      ]
     },
     "execution_count": 350,
     "metadata": {},
     "output_type": "execute_result"
    }
   ],
   "source": [
    "X_train.shape"
   ]
  },
  {
   "cell_type": "code",
   "execution_count": 351,
   "id": "65ad739a",
   "metadata": {},
   "outputs": [],
   "source": [
    "X_train = numpy.reshape(X_train, (X_train.shape[0], X_train.shape[1], 1))\n",
    "X_val = numpy.reshape(X_val, (X_val.shape[0], X_val.shape[1], 1))\n",
    "X_test = numpy.reshape(X_test, (X_test.shape[0], X_test.shape[1], 1))\n"
   ]
  },
  {
   "cell_type": "code",
   "execution_count": 352,
   "id": "7cf19224",
   "metadata": {},
   "outputs": [],
   "source": [
    "# Thay đổi kích thước của dữ liệu huấn luyện\n",
    "X_train = X_train.reshape(X_train.shape[0], X_train.shape[1])\n",
    "\n",
    "# Thay đổi kích thước của dữ liệu kiểm tra\n",
    "X_val = X_val.reshape(X_val.shape[0], X_val.shape[1])\n",
    "X_test = X_test.reshape(X_test.shape[0], X_test.shape[1])\n"
   ]
  },
  {
   "cell_type": "code",
   "execution_count": 353,
   "id": "a05656c6",
   "metadata": {},
   "outputs": [],
   "source": [
    "from sklearn import neighbors\n",
    "from sklearn.neighbors import KNeighborsRegressor\n",
    "\n",
    "K = time_step\n",
    "neighbor = neighbors.KNeighborsRegressor(n_neighbors = K)\n"
   ]
  },
  {
   "cell_type": "code",
   "execution_count": 354,
   "id": "791531de",
   "metadata": {},
   "outputs": [
    {
     "data": {
      "text/plain": [
       "KNeighborsRegressor(n_neighbors=100)"
      ]
     },
     "execution_count": 354,
     "metadata": {},
     "output_type": "execute_result"
    }
   ],
   "source": [
    "neighbor.fit(X_train, y_train)"
   ]
  },
  {
   "cell_type": "code",
   "execution_count": 355,
   "id": "0e4e5524",
   "metadata": {},
   "outputs": [
    {
     "name": "stdout",
     "output_type": "stream",
     "text": [
      "Train data prediction: (860, 1)\n",
      "Test data prediction: (173, 1)\n"
     ]
    }
   ],
   "source": [
    "# Lets Do the prediction \n",
    "\n",
    "train_predict=neighbor.predict(X_train)\n",
    "test_predict=neighbor.predict(X_test)\n",
    "\n",
    "train_predict = train_predict.reshape(-1,1)\n",
    "test_predict = test_predict.reshape(-1,1)\n",
    "\n",
    "print(\"Train data prediction:\", train_predict.shape)\n",
    "print(\"Test data prediction:\", test_predict.shape)"
   ]
  },
  {
   "cell_type": "code",
   "execution_count": 356,
   "id": "7f2af975",
   "metadata": {},
   "outputs": [],
   "source": [
    "#predict value against test\n",
    "y_pred=neighbor.predict(X_test)"
   ]
  },
  {
   "cell_type": "code",
   "execution_count": 357,
   "id": "3fb9eab6",
   "metadata": {},
   "outputs": [
    {
     "name": "stdout",
     "output_type": "stream",
     "text": [
      "MAPE: 5312841050035.796\n"
     ]
    }
   ],
   "source": [
    "from sklearn.metrics import mean_absolute_percentage_error\n",
    "\n",
    "mape = mean_absolute_percentage_error(ytest, y_pred)\n",
    "\n",
    "print(\"MAPE:\", mape)\n"
   ]
  },
  {
   "cell_type": "code",
   "execution_count": 358,
   "id": "4d17f403",
   "metadata": {},
   "outputs": [
    {
     "name": "stdout",
     "output_type": "stream",
     "text": [
      "Testing RMSE: 0.12487140711158325\n"
     ]
    }
   ],
   "source": [
    "test_rmse = np.sqrt(np.mean((y_pred - ytest)**2))\n",
    "print('Testing RMSE:', test_rmse)\n"
   ]
  },
  {
   "cell_type": "code",
   "execution_count": 359,
   "id": "2022fc1b",
   "metadata": {},
   "outputs": [
    {
     "name": "stdout",
     "output_type": "stream",
     "text": [
      "R2 Score: 0.8853065110634004\n",
      "Mean Squared Error: 0.0021867033579666207\n",
      "Root Mean Squared Error: 0.04676220009758545\n",
      "Mean Absolute Error: 0.03464763479026478\n"
     ]
    }
   ],
   "source": [
    "#evaluate model's performance on train data\n",
    "predict = neighbor.predict(X_train)\n",
    "r2 = r2_score(y_train, predict)\n",
    "mse = mean_squared_error(y_train, predict)\n",
    "rmse = mean_squared_error(y_train, predict, squared=False)\n",
    "mae = mean_absolute_error(y_train, predict)\n",
    "print(\"R2 Score:\", r2)\n",
    "print(\"Mean Squared Error:\", mse)\n",
    "print(\"Root Mean Squared Error:\", rmse)\n",
    "print(\"Mean Absolute Error:\", mae)"
   ]
  },
  {
   "cell_type": "code",
   "execution_count": 360,
   "id": "00de6c5e",
   "metadata": {},
   "outputs": [
    {
     "name": "stdout",
     "output_type": "stream",
     "text": [
      "R2 Score: -13.325052517559175\n",
      "Mean Squared Error: 0.015592868314026762\n",
      "Root Mean Squared Error: 0.12487140711158325\n",
      "Mean Absolute Error: 0.12079591337701434\n"
     ]
    }
   ],
   "source": [
    "#evaluate model's performance on test data\n",
    "from sklearn.metrics import mean_absolute_percentage_error\n",
    "\n",
    "r2 = r2_score(ytest, y_pred)\n",
    "mse = mean_squared_error(ytest, y_pred)\n",
    "rmse = mean_squared_error(ytest, y_pred, squared=False)\n",
    "mae = mean_absolute_error(ytest, y_pred)\n",
    "mape = mean_absolute_percentage_error(ytest, y_pred)\n",
    "\n",
    "print(\"R2 Score:\", r2)\n",
    "print(\"Mean Squared Error:\", mse)\n",
    "print(\"Root Mean Squared Error:\", rmse)\n",
    "print(\"Mean Absolute Error:\", mae)\n",
    "print(\"MAPE:\", mape)\n"
   ]
  },
  {
   "cell_type": "code",
   "execution_count": 361,
   "id": "44be4d8a",
   "metadata": {},
   "outputs": [
    {
     "name": "stdout",
     "output_type": "stream",
     "text": [
      "Giá dự đoán 30 ngày sau: [0.21668731083468923, 0.21668731083468923, 0.21668731083468923, 0.21668731083468923, 0.21668731083468923, 0.21668731083468923, 0.21668731083468923, 0.21668731083468923, 0.21668731083468923, 0.21668731083468923, 0.21668731083468923, 0.21668731083468923, 0.21668731083468923, 0.21668731083468923, 0.21668731083468923, 0.21668731083468923, 0.21668731083468923, 0.21668731083468923, 0.21668731083468923, 0.21668731083468923, 0.21668731083468923, 0.21668731083468923, 0.21668731083468923, 0.21668731083468923, 0.21668731083468923, 0.21668731083468923, 0.21668731083468923, 0.21668731083468923, 0.21668731083468923, 0.21668731083468923]\n"
     ]
    }
   ],
   "source": [
    "def predict_30_days_knn(model, data, time_step):\n",
    "    x_input = data[-time_step:].reshape(1, -1)  # Lấy dữ liệu cuối cùng để dự đoán\n",
    "    temp_input = list(x_input)\n",
    "    lst_output = []\n",
    "\n",
    "    for i in range(30):\n",
    "        if len(temp_input) > time_step:\n",
    "            x_input = np.array(temp_input[1:])\n",
    "            x_input = x_input.reshape(1, -1)\n",
    "            yhat = model.predict(x_input)\n",
    "            temp_input.extend(yhat.tolist())\n",
    "            temp_input = temp_input[1:]\n",
    "            lst_output.append(yhat[0])\n",
    "        else:\n",
    "            x_input = x_input.reshape(1, -1)\n",
    "            yhat = model.predict(x_input)\n",
    "            temp_input.extend(yhat.tolist())\n",
    "            lst_output.append(yhat[0])\n",
    "\n",
    "    return lst_output\n",
    "\n",
    "# Dự đoán 30 ngày tiếp theo cho dữ liệu test_data với mô hình KNN\n",
    "prediction_knn = predict_30_days_knn(neighbor, test_data, time_step)\n",
    "print(\"Giá dự đoán 30 ngày sau:\", prediction_knn)\n"
   ]
  },
  {
   "cell_type": "code",
   "execution_count": 362,
   "id": "842a2e65",
   "metadata": {},
   "outputs": [
    {
     "data": {
      "image/png": "[encoded data removed]",
      "text/plain": [
       "<Figure size 432x288 with 1 Axes>"
      ]
     },
     "metadata": {
      "needs_background": "light"
     },
     "output_type": "display_data"
    }
   ],
   "source": [
    "# 14.Vẽ hình\n",
    "\n",
    "train_data_index = pd.RangeIndex(start=0, stop=train_size, step=1)\n",
    "plt.plot(scaler.inverse_transform(train_data))\n",
    "test_data_index = pd.RangeIndex(start=train_size, stop=train_size+test_size, step=1)\n",
    "plt.plot(test_data_index,scaler.inverse_transform(test_data))\n",
    "test_data_index = pd.RangeIndex(start=train_size+101, stop=train_size+test_size, step=1)\n",
    "plt.plot(test_data_index,(y_pred))\n",
    "val_data_index = pd.RangeIndex(start=train_size+test_size, stop=train_size+test_size+val_size, step=1)\n",
    "plt.plot(val_data_index,scaler.inverse_transform(val_data))\n",
    "prediect_data_index = pd.RangeIndex(start=len(df1)-1, stop=len(df1)+29, step=1)\n",
    "plt.legend(['Train','Test','Predict','Validate','ValidatePred','Predict30days'])\n",
    "plt.show()"
   ]
  },
  {
   "cell_type": "code",
   "execution_count": null,
   "id": "5efaf4fd",
   "metadata": {},
   "outputs": [],
   "source": []
  }
 ],
 "metadata": {
  "kernelspec": {
   "display_name": "Python 3 (ipykernel)",
   "language": "python",
   "name": "python3"
  },
  "language_info": {
   "codemirror_mode": {
    "name": "ipython",
    "version": 3
   },
   "file_extension": ".py",
   "mimetype": "text/x-python",
   "name": "python",
   "nbconvert_exporter": "python",
   "pygments_lexer": "ipython3",
   "version": "3.9.12"
  }
 },
 "nbformat": 4,
 "nbformat_minor": 5
}
