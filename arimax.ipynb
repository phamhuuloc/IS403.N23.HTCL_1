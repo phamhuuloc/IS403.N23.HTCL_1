{
  "nbformat": 4,
  "nbformat_minor": 0,
  "metadata": {
    "colab": {
      "provenance": []
    },
    "kernelspec": {
      "name": "python3",
      "display_name": "Python 3"
    },
    "language_info": {
      "name": "python"
    }
  },
  "cells": [
    {
      "cell_type": "code",
      "execution_count": null,
      "metadata": {
        "id": "jJVpgWxWqf-v"
      },
      "outputs": [],
      "source": [
        "import pandas as pd\n",
        "import numpy as np\n",
        "from statsmodels.tsa.arima.model import ARIMA\n",
        "from sklearn.preprocessing import MinMaxScaler\n",
        "import matplotlib.pyplot as plt\n",
        "from sklearn.metrics import mean_absolute_percentage_error, mean_squared_error, mean_absolute_error"
      ]
    },
    {
      "cell_type": "code",
      "source": [
        "df = pd.read_csv('/content/sample_data/VCB.csv')\n",
        "df"
      ],
      "metadata": {
        "colab": {
          "base_uri": "https://localhost:8080/",
          "height": 423
        },
        "id": "KIIlzGJ_qkck",
        "outputId": "6f8198c7-9423-42bf-896b-b944600afed2"
      },
      "execution_count": null,
      "outputs": [
        {
          "output_type": "execute_result",
          "data": {
            "text/plain": [
              "           Date  Close   Open   High    Low     Vol. Change %\n",
              "0     12/1/2017  36620  36847  37075  36392    2.66M   -0.41%\n",
              "1     12/4/2017  37454  36772  37454  36620    2.48M    2.28%\n",
              "2     12/5/2017  36468  37151  37909  36468    2.52M   -2.63%\n",
              "3     12/6/2017  36392  36392  36620  35710    2.68M   -0.21%\n",
              "4     12/7/2017  36089  36392  36392  35407    3.49M   -0.83%\n",
              "...         ...    ...    ...    ...    ...      ...      ...\n",
              "1369   6/1/2023  93900  94600  94600  93200  646.30K   -0.11%\n",
              "1370   6/2/2023  94900  93900  95000  93300  737.80K    1.06%\n",
              "1371   6/5/2023  98000  95200  98700  95200    1.30M    3.27%\n",
              "1372   6/6/2023  99000  98000  99000  96500  759.50K    1.02%\n",
              "1373   6/7/2023  97000  99000  99000  97000  749.60K   -2.02%\n",
              "\n",
              "[1374 rows x 7 columns]"
            ],
            "text/html": [
              "\n",
              "  <div id=\"df-317e804e-d4b8-4ee9-9328-40b09796d518\">\n",
              "    <div class=\"colab-df-container\">\n",
              "      <div>\n",
              "<style scoped>\n",
              "    .dataframe tbody tr th:only-of-type {\n",
              "        vertical-align: middle;\n",
              "    }\n",
              "\n",
              "    .dataframe tbody tr th {\n",
              "        vertical-align: top;\n",
              "    }\n",
              "\n",
              "    .dataframe thead th {\n",
              "        text-align: right;\n",
              "    }\n",
              "</style>\n",
              "<table border=\"1\" class=\"dataframe\">\n",
              "  <thead>\n",
              "    <tr style=\"text-align: right;\">\n",
              "      <th></th>\n",
              "      <th>Date</th>\n",
              "      <th>Close</th>\n",
              "      <th>Open</th>\n",
              "      <th>High</th>\n",
              "      <th>Low</th>\n",
              "      <th>Vol.</th>\n",
              "      <th>Change %</th>\n",
              "    </tr>\n",
              "  </thead>\n",
              "  <tbody>\n",
              "    <tr>\n",
              "      <th>0</th>\n",
              "      <td>12/1/2017</td>\n",
              "      <td>36620</td>\n",
              "      <td>36847</td>\n",
              "      <td>37075</td>\n",
              "      <td>36392</td>\n",
              "      <td>2.66M</td>\n",
              "      <td>-0.41%</td>\n",
              "    </tr>\n",
              "    <tr>\n",
              "      <th>1</th>\n",
              "      <td>12/4/2017</td>\n",
              "      <td>37454</td>\n",
              "      <td>36772</td>\n",
              "      <td>37454</td>\n",
              "      <td>36620</td>\n",
              "      <td>2.48M</td>\n",
              "      <td>2.28%</td>\n",
              "    </tr>\n",
              "    <tr>\n",
              "      <th>2</th>\n",
              "      <td>12/5/2017</td>\n",
              "      <td>36468</td>\n",
              "      <td>37151</td>\n",
              "      <td>37909</td>\n",
              "      <td>36468</td>\n",
              "      <td>2.52M</td>\n",
              "      <td>-2.63%</td>\n",
              "    </tr>\n",
              "    <tr>\n",
              "      <th>3</th>\n",
              "      <td>12/6/2017</td>\n",
              "      <td>36392</td>\n",
              "      <td>36392</td>\n",
              "      <td>36620</td>\n",
              "      <td>35710</td>\n",
              "      <td>2.68M</td>\n",
              "      <td>-0.21%</td>\n",
              "    </tr>\n",
              "    <tr>\n",
              "      <th>4</th>\n",
              "      <td>12/7/2017</td>\n",
              "      <td>36089</td>\n",
              "      <td>36392</td>\n",
              "      <td>36392</td>\n",
              "      <td>35407</td>\n",
              "      <td>3.49M</td>\n",
              "      <td>-0.83%</td>\n",
              "    </tr>\n",
              "    <tr>\n",
              "      <th>...</th>\n",
              "      <td>...</td>\n",
              "      <td>...</td>\n",
              "      <td>...</td>\n",
              "      <td>...</td>\n",
              "      <td>...</td>\n",
              "      <td>...</td>\n",
              "      <td>...</td>\n",
              "    </tr>\n",
              "    <tr>\n",
              "      <th>1369</th>\n",
              "      <td>6/1/2023</td>\n",
              "      <td>93900</td>\n",
              "      <td>94600</td>\n",
              "      <td>94600</td>\n",
              "      <td>93200</td>\n",
              "      <td>646.30K</td>\n",
              "      <td>-0.11%</td>\n",
              "    </tr>\n",
              "    <tr>\n",
              "      <th>1370</th>\n",
              "      <td>6/2/2023</td>\n",
              "      <td>94900</td>\n",
              "      <td>93900</td>\n",
              "      <td>95000</td>\n",
              "      <td>93300</td>\n",
              "      <td>737.80K</td>\n",
              "      <td>1.06%</td>\n",
              "    </tr>\n",
              "    <tr>\n",
              "      <th>1371</th>\n",
              "      <td>6/5/2023</td>\n",
              "      <td>98000</td>\n",
              "      <td>95200</td>\n",
              "      <td>98700</td>\n",
              "      <td>95200</td>\n",
              "      <td>1.30M</td>\n",
              "      <td>3.27%</td>\n",
              "    </tr>\n",
              "    <tr>\n",
              "      <th>1372</th>\n",
              "      <td>6/6/2023</td>\n",
              "      <td>99000</td>\n",
              "      <td>98000</td>\n",
              "      <td>99000</td>\n",
              "      <td>96500</td>\n",
              "      <td>759.50K</td>\n",
              "      <td>1.02%</td>\n",
              "    </tr>\n",
              "    <tr>\n",
              "      <th>1373</th>\n",
              "      <td>6/7/2023</td>\n",
              "      <td>97000</td>\n",
              "      <td>99000</td>\n",
              "      <td>99000</td>\n",
              "      <td>97000</td>\n",
              "      <td>749.60K</td>\n",
              "      <td>-2.02%</td>\n",
              "    </tr>\n",
              "  </tbody>\n",
              "</table>\n",
              "<p>1374 rows × 7 columns</p>\n",
              "</div>\n",
              "      <button class=\"colab-df-convert\" onclick=\"convertToInteractive('df-317e804e-d4b8-4ee9-9328-40b09796d518')\"\n",
              "              title=\"Convert this dataframe to an interactive table.\"\n",
              "              style=\"display:none;\">\n",
              "        \n",
              "  <svg xmlns=\"http://www.w3.org/2000/svg\" height=\"24px\"viewBox=\"0 0 24 24\"\n",
              "       width=\"24px\">\n",
              "    <path d=\"M0 0h24v24H0V0z\" fill=\"none\"/>\n",
              "    <path d=\"M18.56 5.44l.94 2.06.94-2.06 2.06-.94-2.06-.94-.94-2.06-.94 2.06-2.06.94zm-11 1L8.5 8.5l.94-2.06 2.06-.94-2.06-.94L8.5 2.5l-.94 2.06-2.06.94zm10 10l.94 2.06.94-2.06 2.06-.94-2.06-.94-.94-2.06-.94 2.06-2.06.94z\"/><path d=\"M17.41 7.96l-1.37-1.37c-.4-.4-.92-.59-1.43-.59-.52 0-1.04.2-1.43.59L10.3 9.45l-7.72 7.72c-.78.78-.78 2.05 0 2.83L4 21.41c.39.39.9.59 1.41.59.51 0 1.02-.2 1.41-.59l7.78-7.78 2.81-2.81c.8-.78.8-2.07 0-2.86zM5.41 20L4 18.59l7.72-7.72 1.47 1.35L5.41 20z\"/>\n",
              "  </svg>\n",
              "      </button>\n",
              "      \n",
              "  <style>\n",
              "    .colab-df-container {\n",
              "      display:flex;\n",
              "      flex-wrap:wrap;\n",
              "      gap: 12px;\n",
              "    }\n",
              "\n",
              "    .colab-df-convert {\n",
              "      background-color: #E8F0FE;\n",
              "      border: none;\n",
              "      border-radius: 50%;\n",
              "      cursor: pointer;\n",
              "      display: none;\n",
              "      fill: #1967D2;\n",
              "      height: 32px;\n",
              "      padding: 0 0 0 0;\n",
              "      width: 32px;\n",
              "    }\n",
              "\n",
              "    .colab-df-convert:hover {\n",
              "      background-color: #E2EBFA;\n",
              "      box-shadow: 0px 1px 2px rgba(60, 64, 67, 0.3), 0px 1px 3px 1px rgba(60, 64, 67, 0.15);\n",
              "      fill: #174EA6;\n",
              "    }\n",
              "\n",
              "    [theme=dark] .colab-df-convert {\n",
              "      background-color: #3B4455;\n",
              "      fill: #D2E3FC;\n",
              "    }\n",
              "\n",
              "    [theme=dark] .colab-df-convert:hover {\n",
              "      background-color: #434B5C;\n",
              "      box-shadow: 0px 1px 3px 1px rgba(0, 0, 0, 0.15);\n",
              "      filter: drop-shadow(0px 1px 2px rgba(0, 0, 0, 0.3));\n",
              "      fill: #FFFFFF;\n",
              "    }\n",
              "  </style>\n",
              "\n",
              "      <script>\n",
              "        const buttonEl =\n",
              "          document.querySelector('#df-317e804e-d4b8-4ee9-9328-40b09796d518 button.colab-df-convert');\n",
              "        buttonEl.style.display =\n",
              "          google.colab.kernel.accessAllowed ? 'block' : 'none';\n",
              "\n",
              "        async function convertToInteractive(key) {\n",
              "          const element = document.querySelector('#df-317e804e-d4b8-4ee9-9328-40b09796d518');\n",
              "          const dataTable =\n",
              "            await google.colab.kernel.invokeFunction('convertToInteractive',\n",
              "                                                     [key], {});\n",
              "          if (!dataTable) return;\n",
              "\n",
              "          const docLinkHtml = 'Like what you see? Visit the ' +\n",
              "            '<a target=\"_blank\" href=https://colab.research.google.com/notebooks/data_table.ipynb>data table notebook</a>'\n",
              "            + ' to learn more about interactive tables.';\n",
              "          element.innerHTML = '';\n",
              "          dataTable['output_type'] = 'display_data';\n",
              "          await google.colab.output.renderOutput(dataTable, element);\n",
              "          const docLink = document.createElement('div');\n",
              "          docLink.innerHTML = docLinkHtml;\n",
              "          element.appendChild(docLink);\n",
              "        }\n",
              "      </script>\n",
              "    </div>\n",
              "  </div>\n",
              "  "
            ]
          },
          "metadata": {},
          "execution_count": 90
        }
      ]
    },
    {
      "cell_type": "code",
      "source": [
        "# Chia dữ liệu thành tập huấn luyện, tập kiểm tra và tập validation\n",
        "train_size = int(0.6 * len(df))\n",
        "test_size = int(0.2 * len(df))\n",
        "val_size = len(df) - train_size - test_size\n",
        "\n",
        "train_data = df[:train_size]\n",
        "test_data = df[train_size:train_size+test_size]\n",
        "val_data = df[train_size+test_size:]\n",
        "\n",
        "# Lấy các giá trị đóng cửa của tập huấn luyện\n",
        "train_close_prices = train_data['Close'].values\n",
        "\n",
        "# Chuẩn hóa dữ liệu về phạm vi từ 0 đến 1\n",
        "scaler = MinMaxScaler(feature_range=(0, 1))\n",
        "scaled_train_prices = scaler.fit_transform(train_close_prices.reshape(-1, 1)).flatten()\n",
        "\n"
      ],
      "metadata": {
        "id": "hmepyRw4q9JR"
      },
      "execution_count": null,
      "outputs": []
    },
    {
      "cell_type": "code",
      "source": [
        "!pip install pmdarima"
      ],
      "metadata": {
        "colab": {
          "base_uri": "https://localhost:8080/"
        },
        "id": "ubYx6RIAnGqx",
        "outputId": "24844a65-3832-41de-e9ca-1e5882397ed9"
      },
      "execution_count": null,
      "outputs": [
        {
          "output_type": "stream",
          "name": "stdout",
          "text": [
            "Looking in indexes: https://pypi.org/simple, https://us-python.pkg.dev/colab-wheels/public/simple/\n",
            "Collecting pmdarima\n",
            "  Downloading pmdarima-2.0.3-cp310-cp310-manylinux_2_17_x86_64.manylinux2014_x86_64.manylinux_2_28_x86_64.whl (1.8 MB)\n",
            "\u001b[2K     \u001b[90m━━━━━━━━━━━━━━━━━━━━━━━━━━━━━━━━━━━━━━━━\u001b[0m \u001b[32m1.8/1.8 MB\u001b[0m \u001b[31m21.1 MB/s\u001b[0m eta \u001b[36m0:00:00\u001b[0m\n",
            "\u001b[?25hRequirement already satisfied: joblib>=0.11 in /usr/local/lib/python3.10/dist-packages (from pmdarima) (1.2.0)\n",
            "Requirement already satisfied: Cython!=0.29.18,!=0.29.31,>=0.29 in /usr/local/lib/python3.10/dist-packages (from pmdarima) (0.29.34)\n",
            "Requirement already satisfied: numpy>=1.21.2 in /usr/local/lib/python3.10/dist-packages (from pmdarima) (1.22.4)\n",
            "Requirement already satisfied: pandas>=0.19 in /usr/local/lib/python3.10/dist-packages (from pmdarima) (1.5.3)\n",
            "Requirement already satisfied: scikit-learn>=0.22 in /usr/local/lib/python3.10/dist-packages (from pmdarima) (1.2.2)\n",
            "Requirement already satisfied: scipy>=1.3.2 in /usr/local/lib/python3.10/dist-packages (from pmdarima) (1.10.1)\n",
            "Requirement already satisfied: statsmodels>=0.13.2 in /usr/local/lib/python3.10/dist-packages (from pmdarima) (0.13.5)\n",
            "Requirement already satisfied: urllib3 in /usr/local/lib/python3.10/dist-packages (from pmdarima) (1.26.15)\n",
            "Requirement already satisfied: setuptools!=50.0.0,>=38.6.0 in /usr/local/lib/python3.10/dist-packages (from pmdarima) (67.7.2)\n",
            "Requirement already satisfied: python-dateutil>=2.8.1 in /usr/local/lib/python3.10/dist-packages (from pandas>=0.19->pmdarima) (2.8.2)\n",
            "Requirement already satisfied: pytz>=2020.1 in /usr/local/lib/python3.10/dist-packages (from pandas>=0.19->pmdarima) (2022.7.1)\n",
            "Requirement already satisfied: threadpoolctl>=2.0.0 in /usr/local/lib/python3.10/dist-packages (from scikit-learn>=0.22->pmdarima) (3.1.0)\n",
            "Requirement already satisfied: patsy>=0.5.2 in /usr/local/lib/python3.10/dist-packages (from statsmodels>=0.13.2->pmdarima) (0.5.3)\n",
            "Requirement already satisfied: packaging>=21.3 in /usr/local/lib/python3.10/dist-packages (from statsmodels>=0.13.2->pmdarima) (23.1)\n",
            "Requirement already satisfied: six in /usr/local/lib/python3.10/dist-packages (from patsy>=0.5.2->statsmodels>=0.13.2->pmdarima) (1.16.0)\n",
            "Installing collected packages: pmdarima\n",
            "Successfully installed pmdarima-2.0.3\n"
          ]
        }
      ]
    },
    {
      "cell_type": "code",
      "source": [
        "from pmdarima import auto_arima"
      ],
      "metadata": {
        "id": "Cf5v0ZeGnHQX"
      },
      "execution_count": null,
      "outputs": []
    },
    {
      "cell_type": "code",
      "source": [
        "# Tạo exogenous variable\n",
        "exog_train = np.arange(len(train_data)).reshape(-1, 1)\n",
        "\n",
        "\n",
        "# Tìm hiểu các tham số tối ưu cho mô hình ARIMA\n",
        "model = auto_arima(y=scaled_train_prices[:-1], exogenous=exog_train, seasonal=False, trace=True, error_action='ignore', suppress_warnings=True)\n",
        "\n",
        "# Lấy các tham số tối ưu từ kết quả\n",
        "p = model.order[0]\n",
        "d = model.order[1]\n",
        "q = model.order[2]"
      ],
      "metadata": {
        "id": "Aoi3xlmBrFeO",
        "colab": {
          "base_uri": "https://localhost:8080/"
        },
        "outputId": "1da43d06-2d22-49fd-9eef-9fc821457141"
      },
      "execution_count": null,
      "outputs": [
        {
          "output_type": "stream",
          "name": "stdout",
          "text": [
            "Performing stepwise search to minimize aic\n",
            " ARIMA(2,1,2)(0,0,0)[0] intercept   : AIC=-3917.005, Time=2.10 sec\n",
            " ARIMA(0,1,0)(0,0,0)[0] intercept   : AIC=-3915.480, Time=0.14 sec\n",
            " ARIMA(1,1,0)(0,0,0)[0] intercept   : AIC=-3913.549, Time=0.14 sec\n",
            " ARIMA(0,1,1)(0,0,0)[0] intercept   : AIC=-3913.538, Time=0.14 sec\n",
            " ARIMA(0,1,0)(0,0,0)[0]             : AIC=-3916.072, Time=0.14 sec\n",
            " ARIMA(1,1,2)(0,0,0)[0] intercept   : AIC=-3913.120, Time=3.26 sec\n",
            " ARIMA(2,1,1)(0,0,0)[0] intercept   : AIC=-3912.569, Time=3.77 sec\n",
            " ARIMA(3,1,2)(0,0,0)[0] intercept   : AIC=-3915.926, Time=4.23 sec\n",
            " ARIMA(2,1,3)(0,0,0)[0] intercept   : AIC=-3913.664, Time=2.00 sec\n",
            " ARIMA(1,1,1)(0,0,0)[0] intercept   : AIC=-3912.167, Time=0.44 sec\n",
            " ARIMA(1,1,3)(0,0,0)[0] intercept   : AIC=-3912.332, Time=2.34 sec\n",
            " ARIMA(3,1,1)(0,0,0)[0] intercept   : AIC=-3911.176, Time=0.53 sec\n",
            " ARIMA(3,1,3)(0,0,0)[0] intercept   : AIC=-3913.567, Time=2.53 sec\n",
            " ARIMA(2,1,2)(0,0,0)[0]             : AIC=-3917.610, Time=0.62 sec\n",
            " ARIMA(1,1,2)(0,0,0)[0]             : AIC=-3912.985, Time=0.19 sec\n",
            " ARIMA(2,1,1)(0,0,0)[0]             : AIC=-3913.277, Time=0.50 sec\n",
            " ARIMA(3,1,2)(0,0,0)[0]             : AIC=-3916.501, Time=1.05 sec\n",
            " ARIMA(2,1,3)(0,0,0)[0]             : AIC=-3916.460, Time=1.02 sec\n",
            " ARIMA(1,1,1)(0,0,0)[0]             : AIC=-3912.795, Time=0.32 sec\n",
            " ARIMA(1,1,3)(0,0,0)[0]             : AIC=-3913.350, Time=0.64 sec\n",
            " ARIMA(3,1,1)(0,0,0)[0]             : AIC=-3911.811, Time=0.26 sec\n",
            " ARIMA(3,1,3)(0,0,0)[0]             : AIC=-3914.189, Time=1.18 sec\n",
            "\n",
            "Best model:  ARIMA(2,1,2)(0,0,0)[0]          \n",
            "Total fit time: 27.585 seconds\n"
          ]
        }
      ]
    },
    {
      "cell_type": "code",
      "source": [
        "# Tạo một mô hình ARIMAX với các tham số tối ưu\n",
        "arimax_model = ARIMA(endog=scaled_train_prices, order=(p, d, q), exog=exog_train)\n",
        "\n",
        "# Huấn luyện mô hình ARIMAX\n",
        "arimax_model_fit = arimax_model.fit()\n"
      ],
      "metadata": {
        "id": "kqNL13l2rIES"
      },
      "execution_count": null,
      "outputs": []
    },
    {
      "cell_type": "code",
      "source": [
        "\n",
        "# Dự đoán trên tập validation\n",
        "val_close_prices = val_data['Close'].values\n",
        "scaled_val_prices = scaler.transform(val_close_prices.reshape(-1, 1))\n",
        "exog_val = np.arange(len(train_data), len(train_data) + len(val_data)).reshape(-1, 1)  # Chỉ số của dữ liệu validation\n",
        "exog_val = np.reshape(exog_val, (len(exog_val), 1))  # Thay đổi hình dạng của exog_val\n",
        "val_predictions = arimax_model_fit.predict(start=len(train_data), end=len(train_data) + len(val_data) - 1, exog=exog_val)\n",
        "\n",
        "\n"
      ],
      "metadata": {
        "id": "j9OpXlfVrJ-O"
      },
      "execution_count": null,
      "outputs": []
    },
    {
      "cell_type": "code",
      "source": [
        "# Tính toán các độ đo đánh giá trên tập validation\n",
        "val_output = scaled_val_prices\n",
        "val_mape = mean_absolute_percentage_error(val_output, val_predictions)\n",
        "val_mse = mean_squared_error(val_output, val_predictions)\n",
        "val_mae = mean_absolute_error(val_output, val_predictions)\n",
        "val_rmse = np.sqrt(val_mse)"
      ],
      "metadata": {
        "id": "vGLL3mJ6msef"
      },
      "execution_count": null,
      "outputs": []
    },
    {
      "cell_type": "code",
      "source": [
        "# Tính toán các độ đo đánh giá trên tập test\n",
        "test_close_prices = test_data['Close'].values\n",
        "scaled_test_prices = scaler.transform(test_close_prices.reshape(-1, 1)).flatten()\n",
        "test_predictions = arima_model_fit.predict(n_periods=len(scaled_test_prices), exogenous=scaled_test_prices)\n",
        "test_output = scaled_test_prices\n",
        "test_mape = mean_absolute_percentage_error(test_output, test_predictions)\n",
        "test_mse = mean_squared_error(test_output, test_predictions)\n",
        "test_mae = mean_absolute_error(test_output, test_predictions)\n",
        "test_rmse = np.sqrt(test_mse)"
      ],
      "metadata": {
        "id": "Kcpmy1lHmsoq"
      },
      "execution_count": null,
      "outputs": []
    },
    {
      "cell_type": "code",
      "source": [
        "# In các độ đo đánh giá\n",
        "print('Validation MAPE:', val_mape)\n",
        "print('Validation MSE:', val_mse)\n",
        "print('Validation MAE:', val_mae)\n",
        "print('Validation RMSE:', val_rmse)\n",
        "print('Test MAPE:', test_mape)\n",
        "print('Test MSE:', test_mse)\n",
        "print('Test MAE:', test_mae)\n",
        "print('Test RMSE:', test_rmse)"
      ],
      "metadata": {
        "colab": {
          "base_uri": "https://localhost:8080/"
        },
        "id": "-qsmYCVLmzZv",
        "outputId": "b742440c-1dd4-4d90-cf78-e4fec9511f53"
      },
      "execution_count": null,
      "outputs": [
        {
          "output_type": "stream",
          "name": "stdout",
          "text": [
            "Validation MAPE: 0.11277397263781422\n",
            "Validation MSE: 0.017310670730008186\n",
            "Validation MAE: 0.1108705492628507\n",
            "Validation RMSE: 0.13157002215553582\n",
            "Test MAPE: 0.4383647901638439\n",
            "Test MSE: 0.19142544090980573\n",
            "Test MAE: 0.402061114097181\n",
            "Test RMSE: 0.43752193191862476\n"
          ]
        }
      ]
    },
    {
      "cell_type": "code",
      "source": [
        "# Quá trình tạo index dự đoán cho 30 ngày tiếp theo\n",
        "last_index = df.index[-1]\n",
        "last_data = pd.RangeIndex(start=last_index, stop=last_index+30, step=1)\n",
        "\n",
        "# Tạo một mảng 30 số nguyên liên tiếp bắt đầu từ last_index\n",
        "x_next_30_days = np.array(range(last_index+1, last_index+31)).reshape(-1, 1)\n",
        "\n",
        "# Dự đoán giá đóng cửa cho 30 ngày tiếp theo\n",
        "y_next_30_days = model.predict(n_periods=len(x_next_30_days), exogenous=exog_next30)\n",
        "\n",
        "# In ra giá dự đoán cho 30 ngày tiếp theo\n",
        "print('Giá dự đoán cho 30 ngày tiếp theo:')\n",
        "print(y_next_30_days)\n"
      ],
      "metadata": {
        "colab": {
          "base_uri": "https://localhost:8080/"
        },
        "id": "EaF9gja_rLhy",
        "outputId": "a6eea41a-1e44-437c-c254-ffaad6f5b421"
      },
      "execution_count": null,
      "outputs": [
        {
          "output_type": "stream",
          "name": "stdout",
          "text": [
            "Giá dự đoán cho 30 ngày tiếp theo:\n",
            "[0.99183438 0.99448167 0.9971275  0.99977188 1.0024148  1.00505626\n",
            " 1.00769627 1.01033482 1.01297192 1.01560756 1.01824174 1.02087447\n",
            " 1.02350574 1.02613556 1.02876392 1.03139083 1.03401627 1.03664027\n",
            " 1.03926281 1.04188389 1.04450351 1.04712168 1.0497384  1.05235366\n",
            " 1.05496746 1.05757981 1.0601907  1.06280013 1.06540811 1.06801463]\n"
          ]
        }
      ]
    },
    {
      "cell_type": "code",
      "source": [
        "# Scale dự đoán trở lại với đơn vị gốc\n",
        "predicted_prices = scaler.inverse_transform(y_next_30_days.reshape(-1, 1))\n"
      ],
      "metadata": {
        "id": "K27X4ciarNZq"
      },
      "execution_count": null,
      "outputs": []
    },
    {
      "cell_type": "code",
      "source": [
        "# Tạo mảng ngày tương ứng với các dự đoán\n",
        "last_date = pd.to_datetime(df['Date'].iloc[-1])\n",
        "predicted_dates = pd.date_range(start=last_date, periods=30, closed='right')\n"
      ],
      "metadata": {
        "id": "GkdFTHtgrPIc",
        "colab": {
          "base_uri": "https://localhost:8080/"
        },
        "outputId": "6a548b75-0c69-4360-c669-bc2054507e52"
      },
      "execution_count": null,
      "outputs": [
        {
          "output_type": "stream",
          "name": "stderr",
          "text": [
            "<ipython-input-35-9df4e995ebcc>:3: FutureWarning: Argument `closed` is deprecated in favor of `inclusive`.\n",
            "  predicted_dates = pd.date_range(start=last_date, periods=30, closed='right')\n"
          ]
        }
      ]
    },
    {
      "cell_type": "code",
      "source": [
        "# Vẽ biểu đồ\n",
        "plt.figure(figsize=(10, 6))\n",
        "plt.plot(pd.to_datetime(train_data['Date']), train_data['Close'], label='Train')\n",
        "plt.plot(pd.to_datetime(test_data['Date']), test_data['Close'], label='Test')\n",
        "plt.plot(pd.to_datetime(val_data['Date'][:-1]), val_close_prices[:-1], label='Validate')\n",
        "plt.plot(pd.to_datetime(val_data['Date'][:-1]), scaler.inverse_transform(val_predictions[:-1].reshape(-1, 1)).flatten(), label='Predictions')\n",
        "plt.plot(predicted_dates, predicted_prices[:-1], label='Next30Day')\n",
        "plt.xlabel('Ngày')\n",
        "plt.ylabel('Giá cổ phiếu')\n",
        "plt.title('Dự đoán giá cổ phiếu')\n",
        "plt.legend()\n",
        "plt.xticks(rotation=45)\n",
        "plt.show()"
      ],
      "metadata": {
        "id": "IZRUeo_XrQ-Z",
        "colab": {
          "base_uri": "https://localhost:8080/",
          "height": 608
        },
        "outputId": "637c5ed0-0807-4437-e645-46f73df92b04"
      },
      "execution_count": null,
      "outputs": [
        {
          "output_type": "display_data",
          "data": {
            "text/plain": [
              "<Figure size 1000x600 with 1 Axes>"
            ],
            "image/png": "[encoded data removed]"
          },
          "metadata": {}
        }
      ]
    },
    {
      "cell_type": "code",
      "source": [],
      "metadata": {
        "id": "qMugK2Jpt1rw"
      },
      "execution_count": null,
      "outputs": []
    }
  ]
}