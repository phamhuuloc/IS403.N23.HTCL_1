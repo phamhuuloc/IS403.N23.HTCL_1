{
  "nbformat": 4,
  "nbformat_minor": 0,
  "metadata": {
    "colab": {
      "provenance": []
    },
    "kernelspec": {
      "name": "python3",
      "display_name": "Python 3"
    },
    "language_info": {
      "name": "python"
    }
  },
  "cells": [
    {
      "cell_type": "code",
      "execution_count": null,
      "metadata": {
        "id": "LSxkQbUxIEOb"
      },
      "outputs": [],
      "source": [
        "import pandas as pd\n",
        "import numpy as np\n",
        "from sklearn.svm import SVR\n",
        "from sklearn.preprocessing import MinMaxScaler\n",
        "from sklearn.metrics import mean_absolute_percentage_error, mean_squared_error, mean_absolute_error\n",
        "import matplotlib.pyplot as plt\n",
        "from sklearn.metrics import mean_absolute_percentage_error, mean_squared_error, mean_absolute_error\n"
      ]
    },
    {
      "cell_type": "code",
      "source": [
        "df = pd.read_csv('/content/sample_data/VCB.csv')\n",
        "df"
      ],
      "metadata": {
        "colab": {
          "base_uri": "https://localhost:8080/",
          "height": 423
        },
        "id": "_TtuDlE4IPOw",
        "outputId": "84b4a417-aa4b-4e60-d205-7fb3f7da5f09"
      },
      "execution_count": null,
      "outputs": [
        {
          "output_type": "execute_result",
          "data": {
            "text/plain": [
              "           Date  Close   Open   High    Low     Vol. Change %\n",
              "0     12/1/2017  36620  36847  37075  36392    2.66M   -0.41%\n",
              "1     12/4/2017  37454  36772  37454  36620    2.48M    2.28%\n",
              "2     12/5/2017  36468  37151  37909  36468    2.52M   -2.63%\n",
              "3     12/6/2017  36392  36392  36620  35710    2.68M   -0.21%\n",
              "4     12/7/2017  36089  36392  36392  35407    3.49M   -0.83%\n",
              "...         ...    ...    ...    ...    ...      ...      ...\n",
              "1369   6/1/2023  93900  94600  94600  93200  646.30K   -0.11%\n",
              "1370   6/2/2023  94900  93900  95000  93300  737.80K    1.06%\n",
              "1371   6/5/2023  98000  95200  98700  95200    1.30M    3.27%\n",
              "1372   6/6/2023  99000  98000  99000  96500  759.50K    1.02%\n",
              "1373   6/7/2023  97000  99000  99000  97000  749.60K   -2.02%\n",
              "\n",
              "[1374 rows x 7 columns]"
            ],
            "text/html": [
              "\n",
              "  <div id=\"df-5fafed75-988e-4094-88d1-ebda9d593b46\">\n",
              "    <div class=\"colab-df-container\">\n",
              "      <div>\n",
              "<style scoped>\n",
              "    .dataframe tbody tr th:only-of-type {\n",
              "        vertical-align: middle;\n",
              "    }\n",
              "\n",
              "    .dataframe tbody tr th {\n",
              "        vertical-align: top;\n",
              "    }\n",
              "\n",
              "    .dataframe thead th {\n",
              "        text-align: right;\n",
              "    }\n",
              "</style>\n",
              "<table border=\"1\" class=\"dataframe\">\n",
              "  <thead>\n",
              "    <tr style=\"text-align: right;\">\n",
              "      <th></th>\n",
              "      <th>Date</th>\n",
              "      <th>Close</th>\n",
              "      <th>Open</th>\n",
              "      <th>High</th>\n",
              "      <th>Low</th>\n",
              "      <th>Vol.</th>\n",
              "      <th>Change %</th>\n",
              "    </tr>\n",
              "  </thead>\n",
              "  <tbody>\n",
              "    <tr>\n",
              "      <th>0</th>\n",
              "      <td>12/1/2017</td>\n",
              "      <td>36620</td>\n",
              "      <td>36847</td>\n",
              "      <td>37075</td>\n",
              "      <td>36392</td>\n",
              "      <td>2.66M</td>\n",
              "      <td>-0.41%</td>\n",
              "    </tr>\n",
              "    <tr>\n",
              "      <th>1</th>\n",
              "      <td>12/4/2017</td>\n",
              "      <td>37454</td>\n",
              "      <td>36772</td>\n",
              "      <td>37454</td>\n",
              "      <td>36620</td>\n",
              "      <td>2.48M</td>\n",
              "      <td>2.28%</td>\n",
              "    </tr>\n",
              "    <tr>\n",
              "      <th>2</th>\n",
              "      <td>12/5/2017</td>\n",
              "      <td>36468</td>\n",
              "      <td>37151</td>\n",
              "      <td>37909</td>\n",
              "      <td>36468</td>\n",
              "      <td>2.52M</td>\n",
              "      <td>-2.63%</td>\n",
              "    </tr>\n",
              "    <tr>\n",
              "      <th>3</th>\n",
              "      <td>12/6/2017</td>\n",
              "      <td>36392</td>\n",
              "      <td>36392</td>\n",
              "      <td>36620</td>\n",
              "      <td>35710</td>\n",
              "      <td>2.68M</td>\n",
              "      <td>-0.21%</td>\n",
              "    </tr>\n",
              "    <tr>\n",
              "      <th>4</th>\n",
              "      <td>12/7/2017</td>\n",
              "      <td>36089</td>\n",
              "      <td>36392</td>\n",
              "      <td>36392</td>\n",
              "      <td>35407</td>\n",
              "      <td>3.49M</td>\n",
              "      <td>-0.83%</td>\n",
              "    </tr>\n",
              "    <tr>\n",
              "      <th>...</th>\n",
              "      <td>...</td>\n",
              "      <td>...</td>\n",
              "      <td>...</td>\n",
              "      <td>...</td>\n",
              "      <td>...</td>\n",
              "      <td>...</td>\n",
              "      <td>...</td>\n",
              "    </tr>\n",
              "    <tr>\n",
              "      <th>1369</th>\n",
              "      <td>6/1/2023</td>\n",
              "      <td>93900</td>\n",
              "      <td>94600</td>\n",
              "      <td>94600</td>\n",
              "      <td>93200</td>\n",
              "      <td>646.30K</td>\n",
              "      <td>-0.11%</td>\n",
              "    </tr>\n",
              "    <tr>\n",
              "      <th>1370</th>\n",
              "      <td>6/2/2023</td>\n",
              "      <td>94900</td>\n",
              "      <td>93900</td>\n",
              "      <td>95000</td>\n",
              "      <td>93300</td>\n",
              "      <td>737.80K</td>\n",
              "      <td>1.06%</td>\n",
              "    </tr>\n",
              "    <tr>\n",
              "      <th>1371</th>\n",
              "      <td>6/5/2023</td>\n",
              "      <td>98000</td>\n",
              "      <td>95200</td>\n",
              "      <td>98700</td>\n",
              "      <td>95200</td>\n",
              "      <td>1.30M</td>\n",
              "      <td>3.27%</td>\n",
              "    </tr>\n",
              "    <tr>\n",
              "      <th>1372</th>\n",
              "      <td>6/6/2023</td>\n",
              "      <td>99000</td>\n",
              "      <td>98000</td>\n",
              "      <td>99000</td>\n",
              "      <td>96500</td>\n",
              "      <td>759.50K</td>\n",
              "      <td>1.02%</td>\n",
              "    </tr>\n",
              "    <tr>\n",
              "      <th>1373</th>\n",
              "      <td>6/7/2023</td>\n",
              "      <td>97000</td>\n",
              "      <td>99000</td>\n",
              "      <td>99000</td>\n",
              "      <td>97000</td>\n",
              "      <td>749.60K</td>\n",
              "      <td>-2.02%</td>\n",
              "    </tr>\n",
              "  </tbody>\n",
              "</table>\n",
              "<p>1374 rows × 7 columns</p>\n",
              "</div>\n",
              "      <button class=\"colab-df-convert\" onclick=\"convertToInteractive('df-5fafed75-988e-4094-88d1-ebda9d593b46')\"\n",
              "              title=\"Convert this dataframe to an interactive table.\"\n",
              "              style=\"display:none;\">\n",
              "        \n",
              "  <svg xmlns=\"http://www.w3.org/2000/svg\" height=\"24px\"viewBox=\"0 0 24 24\"\n",
              "       width=\"24px\">\n",
              "    <path d=\"M0 0h24v24H0V0z\" fill=\"none\"/>\n",
              "    <path d=\"M18.56 5.44l.94 2.06.94-2.06 2.06-.94-2.06-.94-.94-2.06-.94 2.06-2.06.94zm-11 1L8.5 8.5l.94-2.06 2.06-.94-2.06-.94L8.5 2.5l-.94 2.06-2.06.94zm10 10l.94 2.06.94-2.06 2.06-.94-2.06-.94-.94-2.06-.94 2.06-2.06.94z\"/><path d=\"M17.41 7.96l-1.37-1.37c-.4-.4-.92-.59-1.43-.59-.52 0-1.04.2-1.43.59L10.3 9.45l-7.72 7.72c-.78.78-.78 2.05 0 2.83L4 21.41c.39.39.9.59 1.41.59.51 0 1.02-.2 1.41-.59l7.78-7.78 2.81-2.81c.8-.78.8-2.07 0-2.86zM5.41 20L4 18.59l7.72-7.72 1.47 1.35L5.41 20z\"/>\n",
              "  </svg>\n",
              "      </button>\n",
              "      \n",
              "  <style>\n",
              "    .colab-df-container {\n",
              "      display:flex;\n",
              "      flex-wrap:wrap;\n",
              "      gap: 12px;\n",
              "    }\n",
              "\n",
              "    .colab-df-convert {\n",
              "      background-color: #E8F0FE;\n",
              "      border: none;\n",
              "      border-radius: 50%;\n",
              "      cursor: pointer;\n",
              "      display: none;\n",
              "      fill: #1967D2;\n",
              "      height: 32px;\n",
              "      padding: 0 0 0 0;\n",
              "      width: 32px;\n",
              "    }\n",
              "\n",
              "    .colab-df-convert:hover {\n",
              "      background-color: #E2EBFA;\n",
              "      box-shadow: 0px 1px 2px rgba(60, 64, 67, 0.3), 0px 1px 3px 1px rgba(60, 64, 67, 0.15);\n",
              "      fill: #174EA6;\n",
              "    }\n",
              "\n",
              "    [theme=dark] .colab-df-convert {\n",
              "      background-color: #3B4455;\n",
              "      fill: #D2E3FC;\n",
              "    }\n",
              "\n",
              "    [theme=dark] .colab-df-convert:hover {\n",
              "      background-color: #434B5C;\n",
              "      box-shadow: 0px 1px 3px 1px rgba(0, 0, 0, 0.15);\n",
              "      filter: drop-shadow(0px 1px 2px rgba(0, 0, 0, 0.3));\n",
              "      fill: #FFFFFF;\n",
              "    }\n",
              "  </style>\n",
              "\n",
              "      <script>\n",
              "        const buttonEl =\n",
              "          document.querySelector('#df-5fafed75-988e-4094-88d1-ebda9d593b46 button.colab-df-convert');\n",
              "        buttonEl.style.display =\n",
              "          google.colab.kernel.accessAllowed ? 'block' : 'none';\n",
              "\n",
              "        async function convertToInteractive(key) {\n",
              "          const element = document.querySelector('#df-5fafed75-988e-4094-88d1-ebda9d593b46');\n",
              "          const dataTable =\n",
              "            await google.colab.kernel.invokeFunction('convertToInteractive',\n",
              "                                                     [key], {});\n",
              "          if (!dataTable) return;\n",
              "\n",
              "          const docLinkHtml = 'Like what you see? Visit the ' +\n",
              "            '<a target=\"_blank\" href=https://colab.research.google.com/notebooks/data_table.ipynb>data table notebook</a>'\n",
              "            + ' to learn more about interactive tables.';\n",
              "          element.innerHTML = '';\n",
              "          dataTable['output_type'] = 'display_data';\n",
              "          await google.colab.output.renderOutput(dataTable, element);\n",
              "          const docLink = document.createElement('div');\n",
              "          docLink.innerHTML = docLinkHtml;\n",
              "          element.appendChild(docLink);\n",
              "        }\n",
              "      </script>\n",
              "    </div>\n",
              "  </div>\n",
              "  "
            ]
          },
          "metadata": {},
          "execution_count": 2
        }
      ]
    },
    {
      "cell_type": "code",
      "source": [
        "# Chia dữ liệu thành tập huấn luyện, tập kiểm tra và tập validation\n",
        "train_size = int(0.7 * len(df))\n",
        "test_size = int(0.2 * len(df))\n",
        "val_size = len(df) - train_size - test_size\n",
        "\n",
        "train_data = df[:train_size]\n",
        "test_data = df[train_size:train_size+test_size]\n",
        "val_data = df[train_size+test_size:]\n",
        "\n",
        "# Lấy các giá trị đóng cửa của tập huấn luyện\n",
        "train_close_prices = train_data['Close'].values.reshape(-1, 1)\n",
        "\n",
        "# Chuẩn hóa dữ liệu về phạm vi từ 0 đến 1\n",
        "scaler = MinMaxScaler(feature_range=(0, 1))\n",
        "scaled_train_prices = scaler.fit_transform(train_close_prices)\n",
        "\n",
        "# Xác định input và output của tập huấn luyện\n",
        "train_input = scaled_train_prices[:-1]\n",
        "train_output = scaled_train_prices[1:]"
      ],
      "metadata": {
        "id": "aIEg6O_uJNOM"
      },
      "execution_count": null,
      "outputs": []
    },
    {
      "cell_type": "code",
      "source": [
        "# Tạo một mô hình SVR\n",
        "svr_model = SVR(kernel='rbf', C=1e3, gamma=0.1)\n",
        "\n",
        "# Huấn luyện mô hình\n",
        "svr_model.fit(train_input, train_output)"
      ],
      "metadata": {
        "colab": {
          "base_uri": "https://localhost:8080/",
          "height": 129
        },
        "id": "n1e3GOALIVvU",
        "outputId": "83969037-b048-4019-82e1-08968479cc4d"
      },
      "execution_count": null,
      "outputs": [
        {
          "output_type": "stream",
          "name": "stderr",
          "text": [
            "/usr/local/lib/python3.10/dist-packages/sklearn/utils/validation.py:1143: DataConversionWarning: A column-vector y was passed when a 1d array was expected. Please change the shape of y to (n_samples, ), for example using ravel().\n",
            "  y = column_or_1d(y, warn=True)\n"
          ]
        },
        {
          "output_type": "execute_result",
          "data": {
            "text/plain": [
              "SVR(C=1000.0, gamma=0.1)"
            ],
            "text/html": [
              "<style>#sk-container-id-1 {color: black;background-color: white;}#sk-container-id-1 pre{padding: 0;}#sk-container-id-1 div.sk-toggleable {background-color: white;}#sk-container-id-1 label.sk-toggleable__label {cursor: pointer;display: block;width: 100%;margin-bottom: 0;padding: 0.3em;box-sizing: border-box;text-align: center;}#sk-container-id-1 label.sk-toggleable__label-arrow:before {content: \"▸\";float: left;margin-right: 0.25em;color: #696969;}#sk-container-id-1 label.sk-toggleable__label-arrow:hover:before {color: black;}#sk-container-id-1 div.sk-estimator:hover label.sk-toggleable__label-arrow:before {color: black;}#sk-container-id-1 div.sk-toggleable__content {max-height: 0;max-width: 0;overflow: hidden;text-align: left;background-color: #f0f8ff;}#sk-container-id-1 div.sk-toggleable__content pre {margin: 0.2em;color: black;border-radius: 0.25em;background-color: #f0f8ff;}#sk-container-id-1 input.sk-toggleable__control:checked~div.sk-toggleable__content {max-height: 200px;max-width: 100%;overflow: auto;}#sk-container-id-1 input.sk-toggleable__control:checked~label.sk-toggleable__label-arrow:before {content: \"▾\";}#sk-container-id-1 div.sk-estimator input.sk-toggleable__control:checked~label.sk-toggleable__label {background-color: #d4ebff;}#sk-container-id-1 div.sk-label input.sk-toggleable__control:checked~label.sk-toggleable__label {background-color: #d4ebff;}#sk-container-id-1 input.sk-hidden--visually {border: 0;clip: rect(1px 1px 1px 1px);clip: rect(1px, 1px, 1px, 1px);height: 1px;margin: -1px;overflow: hidden;padding: 0;position: absolute;width: 1px;}#sk-container-id-1 div.sk-estimator {font-family: monospace;background-color: #f0f8ff;border: 1px dotted black;border-radius: 0.25em;box-sizing: border-box;margin-bottom: 0.5em;}#sk-container-id-1 div.sk-estimator:hover {background-color: #d4ebff;}#sk-container-id-1 div.sk-parallel-item::after {content: \"\";width: 100%;border-bottom: 1px solid gray;flex-grow: 1;}#sk-container-id-1 div.sk-label:hover label.sk-toggleable__label {background-color: #d4ebff;}#sk-container-id-1 div.sk-serial::before {content: \"\";position: absolute;border-left: 1px solid gray;box-sizing: border-box;top: 0;bottom: 0;left: 50%;z-index: 0;}#sk-container-id-1 div.sk-serial {display: flex;flex-direction: column;align-items: center;background-color: white;padding-right: 0.2em;padding-left: 0.2em;position: relative;}#sk-container-id-1 div.sk-item {position: relative;z-index: 1;}#sk-container-id-1 div.sk-parallel {display: flex;align-items: stretch;justify-content: center;background-color: white;position: relative;}#sk-container-id-1 div.sk-item::before, #sk-container-id-1 div.sk-parallel-item::before {content: \"\";position: absolute;border-left: 1px solid gray;box-sizing: border-box;top: 0;bottom: 0;left: 50%;z-index: -1;}#sk-container-id-1 div.sk-parallel-item {display: flex;flex-direction: column;z-index: 1;position: relative;background-color: white;}#sk-container-id-1 div.sk-parallel-item:first-child::after {align-self: flex-end;width: 50%;}#sk-container-id-1 div.sk-parallel-item:last-child::after {align-self: flex-start;width: 50%;}#sk-container-id-1 div.sk-parallel-item:only-child::after {width: 0;}#sk-container-id-1 div.sk-dashed-wrapped {border: 1px dashed gray;margin: 0 0.4em 0.5em 0.4em;box-sizing: border-box;padding-bottom: 0.4em;background-color: white;}#sk-container-id-1 div.sk-label label {font-family: monospace;font-weight: bold;display: inline-block;line-height: 1.2em;}#sk-container-id-1 div.sk-label-container {text-align: center;}#sk-container-id-1 div.sk-container {/* jupyter's `normalize.less` sets `[hidden] { display: none; }` but bootstrap.min.css set `[hidden] { display: none !important; }` so we also need the `!important` here to be able to override the default hidden behavior on the sphinx rendered scikit-learn.org. See: https://github.com/scikit-learn/scikit-learn/issues/21755 */display: inline-block !important;position: relative;}#sk-container-id-1 div.sk-text-repr-fallback {display: none;}</style><div id=\"sk-container-id-1\" class=\"sk-top-container\"><div class=\"sk-text-repr-fallback\"><pre>SVR(C=1000.0, gamma=0.1)</pre><b>In a Jupyter environment, please rerun this cell to show the HTML representation or trust the notebook. <br />On GitHub, the HTML representation is unable to render, please try loading this page with nbviewer.org.</b></div><div class=\"sk-container\" hidden><div class=\"sk-item\"><div class=\"sk-estimator sk-toggleable\"><input class=\"sk-toggleable__control sk-hidden--visually\" id=\"sk-estimator-id-1\" type=\"checkbox\" checked><label for=\"sk-estimator-id-1\" class=\"sk-toggleable__label sk-toggleable__label-arrow\">SVR</label><div class=\"sk-toggleable__content\"><pre>SVR(C=1000.0, gamma=0.1)</pre></div></div></div></div></div>"
            ]
          },
          "metadata": {},
          "execution_count": 5
        }
      ]
    },
    {
      "cell_type": "code",
      "source": [
        "# Dự đoán trên tập validation\n",
        "val_close_prices = val_data['Close'].values.reshape(-1, 1)\n",
        "scaled_val_prices = scaler.transform(val_close_prices)\n",
        "val_input = scaled_val_prices[:-1]\n",
        "val_output = scaled_val_prices[1:]\n",
        "val_predictions = svr_model.predict(val_input)"
      ],
      "metadata": {
        "id": "eZ01X8y_N_DS"
      },
      "execution_count": null,
      "outputs": []
    },
    {
      "cell_type": "code",
      "source": [
        "\n",
        "# Tính toán các độ đo đánh giá trên tập validation\n",
        "val_mape = mean_absolute_percentage_error(val_output, val_predictions)\n",
        "val_mse = mean_squared_error(val_output, val_predictions)\n",
        "val_mae = mean_absolute_error(val_output, val_predictions)\n",
        "val_rmse = np.sqrt(val_mse)"
      ],
      "metadata": {
        "id": "VikVRqNOj0Pt"
      },
      "execution_count": null,
      "outputs": []
    },
    {
      "cell_type": "code",
      "source": [
        "# Tính toán các độ đo đánh giá trên tập test\n",
        "test_close_prices = test_data['Close'].values.reshape(-1, 1)\n",
        "scaled_test_prices = scaler.transform(test_close_prices)\n",
        "test_input = scaled_test_prices[:-1]\n",
        "test_output = scaled_test_prices[1:]\n",
        "test_predictions = svr_model.predict(test_input)\n",
        "test_mape = mean_absolute_percentage_error(test_output, test_predictions)\n",
        "test_mse = mean_squared_error(test_output, test_predictions)\n",
        "test_mae = mean_absolute_error(test_output, test_predictions)\n",
        "test_rmse = np.sqrt(test_mse)"
      ],
      "metadata": {
        "id": "nQJwTpP9j1Jh"
      },
      "execution_count": null,
      "outputs": []
    },
    {
      "cell_type": "code",
      "source": [
        "# In các độ đo đánh giá\n",
        "print('Validation MAPE:', val_mape)\n",
        "print('Validation MSE:', val_mse)\n",
        "print('Validation MAE:', val_mae)\n",
        "print('Validation RMSE:', val_rmse)\n",
        "print('Test MAPE:', test_mape)\n",
        "print('Test MSE:', test_mse)\n",
        "print('Test MAE:', test_mae)\n",
        "print('Test RMSE:', test_rmse)\n"
      ],
      "metadata": {
        "colab": {
          "base_uri": "https://localhost:8080/"
        },
        "id": "HBSJzt_nj5NE",
        "outputId": "bb02b351-c4ff-442a-dd8e-ce06306994cc"
      },
      "execution_count": null,
      "outputs": [
        {
          "output_type": "stream",
          "name": "stdout",
          "text": [
            "Validation MAPE: 0.058280239217005154\n",
            "Validation MSE: 0.004097160349842399\n",
            "Validation MAE: 0.057634483655915086\n",
            "Validation RMSE: 0.06400906459121551\n",
            "Test MAPE: 0.03749270748981919\n",
            "Test MSE: 0.0014092786607367656\n",
            "Test MAE: 0.030575599478705414\n",
            "Test RMSE: 0.03754036042363959\n"
          ]
        }
      ]
    },
    {
      "cell_type": "code",
      "source": [],
      "metadata": {
        "id": "70YRqZyxj8vS"
      },
      "execution_count": null,
      "outputs": []
    },
    {
      "cell_type": "code",
      "source": [
        "# Dự đoán 30 ngày tiếp theo\n",
        "last_input = scaled_val_prices[-1:]\n",
        "predicted_prices = []\n",
        "for _ in range(30):\n",
        "    predicted_price = svr_model.predict(last_input.reshape(1, -1))\n",
        "    predicted_prices.append(predicted_price)\n",
        "    last_input = predicted_price"
      ],
      "metadata": {
        "id": "I9dIsHMBIaj6"
      },
      "execution_count": null,
      "outputs": []
    },
    {
      "cell_type": "code",
      "source": [
        "# Scale dự đoán trở lại với đơn vị gốc\n",
        "predicted_prices = scaler.inverse_transform(predicted_prices)\n",
        "\n"
      ],
      "metadata": {
        "id": "yLHr_QXnIiL7"
      },
      "execution_count": null,
      "outputs": []
    },
    {
      "cell_type": "code",
      "source": [
        "# SCale lai gia tri du doan\n",
        "val_predictions_scaled = scaler.inverse_transform(val_predictions.reshape(-1, 1)).flatten()\n"
      ],
      "metadata": {
        "id": "11KRHCoUI67z"
      },
      "execution_count": null,
      "outputs": []
    },
    {
      "cell_type": "markdown",
      "source": [],
      "metadata": {
        "id": "tlDzbdeOE40s"
      }
    },
    {
      "cell_type": "code",
      "source": [
        "# Tạo mảng ngày tương ứng với các dự đoán\n",
        "last_date = pd.to_datetime(df['Date'].iloc[-1])\n",
        "predicted_dates = pd.date_range(start=last_date, periods=30, inclusive=None)\n",
        "\n"
      ],
      "metadata": {
        "id": "KaMNg0KHMX9K"
      },
      "execution_count": null,
      "outputs": []
    },
    {
      "cell_type": "code",
      "source": [
        "# Vẽ biểu đồ\n",
        "plt.figure(figsize=(10, 6))\n",
        "plt.plot(pd.to_datetime(train_data['Date']), train_data['Close'], label='Train')\n",
        "plt.plot(pd.to_datetime(test_data['Date']), test_data['Close'], label='Test')\n",
        "plt.plot(pd.to_datetime(val_data['Date'][:-1]), val_close_prices[:-1], label='Validate')\n",
        "plt.plot(pd.to_datetime(val_data['Date'][:-1]), val_predictions_scaled, label='Predictions')\n",
        "plt.plot(predicted_dates, predicted_prices, label='Next30Day')\n",
        "plt.xlabel('Ngày')\n",
        "plt.ylabel('Giá cổ phiếu')\n",
        "plt.title('Dự đoán giá cổ phiếu')\n",
        "plt.legend()\n",
        "plt.xticks(rotation=45)\n",
        "plt.show()"
      ],
      "metadata": {
        "colab": {
          "base_uri": "https://localhost:8080/",
          "height": 588
        },
        "id": "OUfMnlXGNkPb",
        "outputId": "d13cd5a2-42ce-44e4-ac83-bc8c16b6f631"
      },
      "execution_count": null,
      "outputs": [
        {
          "output_type": "display_data",
          "data": {
            "text/plain": [
              "<Figure size 1000x600 with 1 Axes>"
            ],
            "image/png": "[encoded data removed]"
          },
          "metadata": {}
        }
      ]
    }
  ]
}